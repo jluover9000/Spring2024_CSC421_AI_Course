{
 "cells": [
  {
   "cell_type": "markdown",
   "metadata": {},
   "source": [
    "# CSC421 Fall 2024 Assignment 2\n",
    "### Instructor: Brandon Haworth\n",
    "#### Notebook Credit: George Tzanetakis\n",
    "Jupyter Notebooks you encounter during the course are largely developed by Prof. Tzanetakis. I've changed/developed them where necessary for my iteration of CSC 421."
   ]
  },
  {
   "cell_type": "markdown",
   "metadata": {},
   "source": [
    "This notebook is based on the supporting material for topics covered in **Chapter 7 - Logical Agents** and **Chapter 8 - First-Order Logic** from the book *Artificial Intelligence: A Modern Approach.* You can consult and modify the textbook code provided in logic.py and logic.ipynb for completing the assignment questions. Questions 6 and 8 rely on this AIMA code from the AIMA repository!\n",
    "\n",
    "You are welcome and actually, it can be educational to look at the code at the aima-code repository as well as other code resources you can find on the web. However, make sure you understand any code that you incorporate. \n",
    "\n",
    "The advanced questions typically require significantly more \n",
    "effort than the basic and expected questions. The assignment structure is as follows: \n",
    "\n",
    "1. Propositional Logic (Basic) - simple prefix evaluator for 0, 1 and logical operators \n",
    "2. Propositional Logic (Basic) - adding variables and bindings to the evaluator \n",
    "3. Propositional Logic (Expected) - recursive prefix evaluator for propositional logic \n",
    "4. Propositional Logic (Expected) - usage of the evaluator to evaluate some example logic expressions\n",
    "5. Propositional Logic (Advanced) - model checking for the prefix evaluator \n",
    "6. Propositional Logic (Basic) - simple KB using aima code with model checking and theorem proving \n",
    "7. First-Order Logic (Expected) - kinship domain using Prolog for the Simpsons\n",
    "8. First-Order Logic (Expected) - LegoWorld "
   ]
  },
  {
   "cell_type": "markdown",
   "metadata": {},
   "source": [
    "# Part 1 Propositional Logic"
   ]
  },
  {
   "cell_type": "markdown",
   "metadata": {},
   "source": [
    "## Parsing and evaluating prefix logic expressions  \n",
    "\n",
    "In this part of the assignment, your task is to incrementally create a parser and evaluator for prefix logic expressions as well as implement simple model checking. "
   ]
  },
  {
   "cell_type": "markdown",
   "metadata": {},
   "source": [
    "### Question 1 (Basic) - 4 Marks\n",
    "\n",
    "Your first task will be to write a simple evaluator of prefix logic expressions with constants. In prefix notation the operator precedes the operands and no operands are required. For example 5+3 in prefix notation is written + 5 3 or 5 * 2 + 3 would be written + * 5 2 3 or + * 5 2 * 3 4 is equivalent to (5 * 2) + (3 * 4). "
   ]
  },
  {
   "cell_type": "markdown",
   "metadata": {},
   "source": [
    "As a first step we will consider very simple expressions with one operator and two constant operands. We will use 0 for false and 1 for true. The following logical connectives should be implemented (see Figure 7.8 in your book) (notice that for now there is no negation symbol ~): \n",
    "\n",
    "1. &    (and), \n",
    "3. |    (or), \n",
    "4. =>   (implication) \n",
    "5. <=>  (biconditional) \n",
    "\n",
    "Example expressions: \n",
    "```\n",
    "& 1 0  \n",
    "=> 0 1 \n",
    "<=> 1 1 \n",
    "```\n",
    "\n",
    "Your function should take as input a string with the prefix expression and return the result of evaluating the expression (basically a 1 for true and 0 for false). You can split a string to a list using .split[' ']. For this part of the assignment you only evaluate expressions with two constant operands i.e no nested/recursive expressions. "
   ]
  },
  {
   "cell_type": "code",
   "execution_count": 14,
   "metadata": {},
   "outputs": [
    {
     "name": "stdout",
     "output_type": "stream",
     "text": [
      "['&', '1', '0']\n"
     ]
    }
   ],
   "source": [
    "a = '& 1 0'\n",
    "print(a.split(' '))"
   ]
  },
  {
   "cell_type": "code",
   "execution_count": 15,
   "metadata": {},
   "outputs": [],
   "source": [
    "# YOUR CODE GOES HERE "
   ]
  },
  {
   "cell_type": "markdown",
   "metadata": {},
   "source": [
    "### Question 2 (Basic) - 2 Marks\n",
    "\n",
    "Your next task is to implement variables and bindings for your propositional logic evaluator. In this version in addition to constants (0 and 1) you also can have variables which are strings with associated values provided in a dictionary. You still only consider two operands and one operator (no nesting). For example in the code below \n",
    "the three expressions are equivalent. Your function should take as arguments the expression to be evaluated as a string and the dictionary with the variable bindings. In addition you need to add the ~ (not) operator. To do so for each variable in the dictionary add a not version. For example if 'a' in the dictionary has a value of 1 the '~a' in the dictionary should have a value of 0. Notice that the not symbol is part of the string and it is NOT separated by a space. \n",
    "\n"
   ]
  },
  {
   "cell_type": "code",
   "execution_count": 16,
   "metadata": {},
   "outputs": [
    {
     "name": "stdout",
     "output_type": "stream",
     "text": [
      "{'foo': 0, 'b': 1}\n"
     ]
    }
   ],
   "source": [
    "d = {'foo': 0, 'b': 1}\n",
    "print(d)\n",
    "expr1 = '& 0 1'\n",
    "expr2 = '& foo 1'\n",
    "expr3 = '& foo ~b'"
   ]
  },
  {
   "cell_type": "code",
   "execution_count": 17,
   "metadata": {
    "scrolled": true
   },
   "outputs": [],
   "source": [
    "# YOUR CODE GOES HERE "
   ]
  },
  {
   "cell_type": "markdown",
   "metadata": {},
   "source": [
    "### Question 3 (Expected) - 6 Marks\n",
    "\n",
    "\n",
    "The following code is a recursive evaluator for prefix arithmetic expressions. It assumes that there are always two operands either an integer or a prefix expression starting with an operator (addition or multiplication). It is a good idea to go through this function carefully by hand to understand how the recursion works. \n",
    "\n",
    "Informed by your understanding of the arithmetic recursive_eval function your task is to write a function to implement a recursive prefix logic evaluator. Your evaluator should also support variable bindings using a dictionary as in the previous question. \n",
    "\n",
    "Example expressions: \n",
    "```\n",
    "& 1 & 1 a   \n",
    "=> 0 & b ~alice  \n",
    "<=> foo 1 \n",
    "```"
   ]
  },
  {
   "cell_type": "code",
   "execution_count": 18,
   "metadata": {},
   "outputs": [
    {
     "name": "stdout",
     "output_type": "stream",
     "text": [
      "1\n",
      "3\n",
      "7\n",
      "28\n"
     ]
    }
   ],
   "source": [
    "def recursive_eval(l):\n",
    "    head, tail = l[0], l[1:]\n",
    "    if head in ['+', '*']: \n",
    "        val1, tail = recursive_eval(tail)\n",
    "        val2, tail = recursive_eval(tail)\n",
    "        if head == '+': \n",
    "            return (int(val1)+int(val2), tail)\n",
    "        elif head == '*':  \n",
    "            return (int(val1)*int(val2), tail)\n",
    "    # operator is a number \n",
    "    else:  \n",
    "        return (int(head),tail)\n",
    "\n",
    "def prefix_eval(input_str): \n",
    "    input_list = input_str.split(' ')\n",
    "    res, tail = recursive_eval(input_list)\n",
    "    return res\n",
    "\n",
    "print(prefix_eval('1'))\n",
    "print(prefix_eval('+ 1 2'))\n",
    "print(prefix_eval('+ 1 * 2 3'))\n",
    "print(prefix_eval('+ * 5 2 * 3 + 1 5'))"
   ]
  },
  {
   "cell_type": "code",
   "execution_count": 19,
   "metadata": {
    "scrolled": true
   },
   "outputs": [],
   "source": [
    "# YOUR CODE GOES HERE "
   ]
  },
  {
   "cell_type": "markdown",
   "metadata": {},
   "source": [
    "### QUESTION 4 (EXPECTED) - 5 Marks"
   ]
  },
  {
   "cell_type": "markdown",
   "metadata": {},
   "source": [
    "\n",
    "Using the recursive prefix evaluator you defined in the previous question \n",
    "answer the following question (you will need to convert the exressions below \n",
    "to prefix). You can use multiple string assignments to assemble more complicated \n",
    "sentences into one big string: \n",
    "\n",
    "\n",
    "Let A be the formula: \n",
    "\n",
    "\\begin{equation} \n",
    "  (( p_{1} \\rightarrow (p2 \\land p_{3})) \\land ((\\neg p_{1})\n",
    "  \\rightarrow (p_{3} \\land p_{4})))\n",
    "\\end{equation} \n",
    "\n",
    "Let B be the formula: \n",
    "\n",
    "\\begin{equation} \n",
    "  (( p_{3} \\rightarrow (\\neg p_{6})) \\land ((\\neg\n",
    "  p_{3}) \\rightarrow (p_{4} \\rightarrow p_{1})))  \n",
    "\\end{equation} \n",
    "\n",
    "Let C be the formula: \n",
    "\n",
    "\\begin{equation} \n",
    "  ((\\neg(p2 \\land p_{5})) \\land (p2 \\rightarrow p_{5})) \n",
    "\\end{equation} \n",
    "\n",
    "Let D be the formula: \n",
    "\n",
    "\\begin{equation} \n",
    "  (\\neg (p_{3} \\rightarrow p_{6}))\n",
    "\\end{equation} \n",
    "\n",
    "Evaluate the formulate E: \n",
    "\\begin{equation} \n",
    "  (( A \\land (B \\land C)) \\rightarrow D)\n",
    "\\end{equation} \n",
    "\n",
    "under the true assignment $I_{1}$, where $I_{1}(p_{1}) = I_{1}(p_{3}) = I_{1}(p_{5}) = false$ \n",
    "and $I_{1}(p2) = I_{1}(p_{4}) = I_{1}(p_{6}) = true$ as well as under the truth assignment \n",
    "$I_{2}$, where $I_{2}(p_{1}) = I_{2}(p_{3}) = I_{2}(p_{5}) = true$ and\n",
    "$I_{2}(p_{2})=I_{2}(p_{4})=I_{2}(p_{6}) = false$. \n"
   ]
  },
  {
   "cell_type": "code",
   "execution_count": 20,
   "metadata": {},
   "outputs": [],
   "source": [
    "## YOUR CODDE GOES HERE "
   ]
  },
  {
   "cell_type": "markdown",
   "metadata": {},
   "source": [
    "### QUESTION 5 (ADVANCED) - 9 Marks\n",
    "\n",
    "Implement inference using model-checking using your prefix recursive evaluator to decide whether a knowledge base KB entails some sentence a. To do so:\n",
    "1. express the knowledge base in the prefix notation\n",
    "2. enumerate all models for the variables in the dictionary\n",
    "3. check that the sentence a is true in every model in which the KB is true. \n",
    "\n",
    "You can check the implementation to tt_entails in logic.ipynb in the aima_python repository to inform how you implement your solution. Your solution should NOT rely directly on any code in logic.py or logic.ipynb. \n",
    "\n",
    "Check you model checking by showing whether A & (B | C) & D & E & (~F & ~G) entails A & D & E & ~F & ~G. \n",
    "You will need to convert this example to prefix notation. It is also a good idea to check a \n",
    "few simple cases to confirm that your approach works. \n"
   ]
  },
  {
   "cell_type": "code",
   "execution_count": 21,
   "metadata": {},
   "outputs": [],
   "source": [
    "# YOUR CODE GOES HERE \n"
   ]
  },
  {
   "cell_type": "markdown",
   "metadata": {},
   "source": [
    "## Knowledge Base (Using AIMA code)\n",
    "\n",
    "In this part of the assignment, your task is to incrementally create a parser and evaluator for prefix logic expressions as well as implement simple model checking. "
   ]
  },
  {
   "cell_type": "markdown",
   "metadata": {},
   "source": [
    "### Question 6 (Basic) - 5 Marks\n",
    "\n",
    "Consider the following propositional logic knowledge base.\n",
    "\n",
    "It is not sunny this afternoon and it is colder than yesterday.\n",
    "We will go swimming only if it is sunny.\n",
    "If we do not go swimming then we will take a canoe trip.\n",
    "If we take a canoe trip, then we will be home by sunset.\n",
    "Denote:\n",
    "\n",
    "* p = It is sunny this afternoon\n",
    "* q = It is colder than yesterday\n",
    "* r = We will go swimming\n",
    "* s= We will take a canoe trip\n",
    "* t= We will be home by sunset\n",
    "\n",
    "Express this knowledge base using propositional logic using the expression syntax used in logic.ipynb. You can incorporate any code you need from logic.ipynb and logic.py. Using both model checking and theorem proving inference (you can use the implementations provided in logic.py) show that this knowledge base entails the sentence if it is not sunny this afternoon then we will be home by sunset. "
   ]
  },
  {
   "cell_type": "code",
   "execution_count": 22,
   "metadata": {},
   "outputs": [],
   "source": [
    "# YOUR CODE GOES HERE \n",
    "\n"
   ]
  },
  {
   "cell_type": "markdown",
   "metadata": {},
   "source": [
    "# Part 2 First-Order Logic"
   ]
  },
  {
   "cell_type": "markdown",
   "metadata": {},
   "source": [
    "## Part 1 Kinship Domain"
   ]
  },
  {
   "cell_type": "markdown",
   "metadata": {},
   "source": [
    "### QUESTION 7 (EXPECTED) - 5 Marks\n",
    "\n",
    "#### The Simpsons Family\n",
    "\n",
    "You will encode a modified version of the kinship domain described in section 8.3.2 of the textbook using prolog to encode as facts the relationships between the members of the Simpsons family from the popular TV show. You will code in the browser, but not in Jupyter, here: https://swish.swi-prolog.org/ **You must put this code in this notebook for marking below.**\n",
    "\n",
    "First start with creating the modified kinship domain described here. A gender-neutral kinship domain that captures the following binary predicates:\n",
    "Parent, Sibling, Child, Spouse, Grandparent\n",
    "\n",
    "Then encode the relationships of the Simpsons family (see questions below to see how many characters you need to represent):\n",
    "https://en.wikipedia.org/wiki/Simpson_family\n",
    "\n",
    "Show how the following queries can be answered using this KB: \n",
    "\n",
    "* Who are the children of Homer? \n",
    "* Who are the parents of Bart? \n",
    "* Are Lisa and Homer siblings? \n",
    "* Are Lisa and Bart siblings?\n",
    "* Who are Lisa and Bart's grandparents?"
   ]
  },
  {
   "cell_type": "code",
   "execution_count": null,
   "metadata": {},
   "outputs": [],
   "source": [
    "# YOUR CODE GOES HERE \n"
   ]
  },
  {
   "cell_type": "markdown",
   "metadata": {},
   "source": [
    "## Part 2 FOL Object Arrangements in Legoworld"
   ]
  },
  {
   "cell_type": "markdown",
   "metadata": {},
   "source": [
    "### QUESTION 8 (EXPECTED) - 10 Marks\n",
    "\n",
    "\n",
    "#### Legoworld \n",
    "\n",
    "\n",
    "In this question we explore the use of FOL to encode knowledge about the objects \n",
    "and arrangement of a simple world created by different lego pieces. Our world \n",
    "will consist of making simple structure by placing lego pieces on top of each other. \n",
    "Each lego piece will be identified by a unique identifier (the letters in the figure below). \n",
    "\n",
    "Let's look at a specific example where each piece is labeled by a letter: \n",
    "\n",
    "<img src=\"lego_letters.png\" width=\"60%\"/>\n",
    "\n",
    "This corresponds to the following picture: \n",
    "\n",
    "<img src=\"lego2.png\" width=\"60%\"/>\n",
    "\n",
    "\n",
    "\n",
    "We can use the following predicates to model the world: \n",
    "* OnPlate(p): p is attached to the bottom plate \n",
    "* On(p1,p2): piece p1 is placed on top of piece p2 \n",
    "* AtLeft(p1,p2): piece p1 and piece p2 are placed on the plate, and piece p1 is direct at the left of p2 \n",
    "* Color(p,c): The color of piece p is c (Red, Grey, Brown, White, Yellow, Blue) \n",
    "* Type(p,t): The type of piece p is t (Brick, Plate, Tile) \n",
    "\n",
    "<img src=\"lego3.png\" width=\"20%\"/>\n",
    "\n",
    "\n",
    "Each pieces will be identified by the letters appearing in the picture. The thicker brick with studs will have type  Brick, the thinner brick with studs is of type Plate, and the one that is flat on the top is of type Tile. \n",
    "\n",
    "\n",
    "Use the FO KB implementation in logic.py to: \n",
    "\n",
    "1. Write a database of facts which models the world in the picture. For example you can use clauses.append(expr('TypeOf(A,Brick)')) to state that lego piece A is a Brick. \n",
    "\n",
    "2. Based exclusively on using these predicates (OnPlate, On, AtLeft), define the following predicates:\n",
    "    1. Base(b1, b2): b2 is the base of the tower containing b1.\n",
    "    2. Base_at_right(b1, b2): b1 and b2 are on the plate, and b2 is at the right (but perhaps not directly) of b1.\n",
    "    3. Object_at_right(b1, b2): b1 is in a pile which is at the right (but perhaps not directly) of b2.\n",
    "    \n",
    "    \n",
    "The above predicates must work for any world defined using the facts specified by on_plate, on, \n",
    "at_left not just the specific example encoded above. In other words, these predicates should be defined \n",
    "in terms of the existing predicates and variables. As an example here is the definition of Base. \n",
    "\n",
    "    * clauses.append(expr('OnPlate(x) ==> Base(x,x)'))\n",
    "    * clauses.append(expr('On(x,z) & Base (z,y) ==> Base(x,y)'))\n",
    "    \n",
    "This is a recursive definition it is a good idea to see how it works by doing substitutions by hand. \n",
    "\n",
    "\n",
    "3. Using the KB you created answer the following queries: \n",
    "    1. Is piece B on top of piece C? \n",
    "    2. What is the type and color of the piece on top of C? \n",
    "    3. What is the type of the base of H? \n",
    "    4. What are the bricks that are right of C? \n",
    "    5. What are all the bricks that are on top of i ? \n",
    "\n",
    "\n",
    "\n",
    "\n"
   ]
  },
  {
   "cell_type": "code",
   "execution_count": null,
   "metadata": {},
   "outputs": [],
   "source": [
    "# YOUR CODE GOES HERE \n"
   ]
  }
 ],
 "metadata": {
  "kernelspec": {
   "display_name": "Python 3 (ipykernel)",
   "language": "python",
   "name": "python3"
  },
  "language_info": {
   "codemirror_mode": {
    "name": "ipython",
    "version": 3
   },
   "file_extension": ".py",
   "mimetype": "text/x-python",
   "name": "python",
   "nbconvert_exporter": "python",
   "pygments_lexer": "ipython3",
   "version": "3.12.1"
  }
 },
 "nbformat": 4,
 "nbformat_minor": 4
}
