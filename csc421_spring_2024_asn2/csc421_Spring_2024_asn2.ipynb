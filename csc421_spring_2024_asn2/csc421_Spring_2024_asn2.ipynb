{
 "cells": [
  {
   "cell_type": "markdown",
   "metadata": {},
   "source": [
    "# CSC421 Fall 2024 Assignment 2\n",
    "### Instructor: Brandon Haworth\n",
    "#### Notebook Credit: George Tzanetakis\n",
    "Jupyter Notebooks you encounter during the course are largely developed by Prof. Tzanetakis. I've changed/developed them where necessary for my iteration of CSC 421."
   ]
  },
  {
   "cell_type": "markdown",
   "metadata": {},
   "source": [
    "This notebook is based on the supporting material for topics covered in **Chapter 7 - Logical Agents** and **Chapter 8 - First-Order Logic** from the book *Artificial Intelligence: A Modern Approach.* You can consult and modify the textbook code provided in logic.py and logic.ipynb for completing the assignment questions. Questions 6 and 8 rely on this AIMA code from the AIMA repository!\n",
    "\n",
    "You are welcome and actually, it can be educational to look at the code at the aima-code repository as well as other code resources you can find on the web. However, make sure you understand any code that you incorporate. \n",
    "\n",
    "The advanced questions typically require significantly more \n",
    "effort than the basic and expected questions. The assignment structure is as follows: \n",
    "\n",
    "1. Propositional Logic (Basic) - simple prefix evaluator for 0, 1 and logical operators \n",
    "2. Propositional Logic (Basic) - adding variables and bindings to the evaluator \n",
    "3. Propositional Logic (Expected) - recursive prefix evaluator for propositional logic \n",
    "4. Propositional Logic (Expected) - usage of the evaluator to evaluate some example logic expressions\n",
    "5. Propositional Logic (Advanced) - model checking for the prefix evaluator \n",
    "6. Propositional Logic (Basic) - simple KB using aima code with model checking and theorem proving \n",
    "7. First-Order Logic (Expected) - kinship domain using Prolog for the Simpsons\n",
    "8. First-Order Logic (Expected) - LegoWorld "
   ]
  },
  {
   "cell_type": "markdown",
   "metadata": {},
   "source": [
    "# Part 1 Propositional Logic"
   ]
  },
  {
   "cell_type": "markdown",
   "metadata": {},
   "source": [
    "## Parsing and evaluating prefix logic expressions  \n",
    "\n",
    "In this part of the assignment, your task is to incrementally create a parser and evaluator for prefix logic expressions as well as implement simple model checking. "
   ]
  },
  {
   "cell_type": "markdown",
   "metadata": {},
   "source": [
    "### Question 1 (Basic) - 4 Marks\n",
    "\n",
    "Your first task will be to write a simple evaluator of prefix logic expressions with constants. In prefix notation the operator precedes the operands and no operands are required. For example 5+3 in prefix notation is written + 5 3 or 5 * 2 + 3 would be written + * 5 2 3 or + * 5 2 * 3 4 is equivalent to (5 * 2) + (3 * 4). "
   ]
  },
  {
   "cell_type": "markdown",
   "metadata": {},
   "source": [
    "As a first step we will consider very simple expressions with one operator and two constant operands. We will use 0 for false and 1 for true. The following logical connectives should be implemented (see Figure 7.8 in your book) (notice that for now there is no negation symbol ~): \n",
    "\n",
    "1. &    (and), \n",
    "3. |    (or), \n",
    "4. =>   (implication) \n",
    "5. <=>  (biconditional) \n",
    "\n",
    "Example expressions: \n",
    "```\n",
    "& 1 0  \n",
    "=> 0 1 \n",
    "<=> 1 1 \n",
    "```\n",
    "\n",
    "Your function should take as input a string with the prefix expression and return the result of evaluating the expression (basically a 1 for true and 0 for false). You can split a string to a list using .split[' ']. For this part of the assignment you only evaluate expressions with two constant operands i.e no nested/recursive expressions. "
   ]
  },
  {
   "cell_type": "code",
   "execution_count": 46,
   "metadata": {},
   "outputs": [
    {
     "name": "stdout",
     "output_type": "stream",
     "text": [
      "['&', '1', '0']\n"
     ]
    }
   ],
   "source": [
    "a = '& 1 0'\n",
    "print(a.split(' '))"
   ]
  },
  {
   "cell_type": "code",
   "execution_count": 47,
   "metadata": {},
   "outputs": [
    {
     "name": "stdout",
     "output_type": "stream",
     "text": [
      "1\n"
     ]
    }
   ],
   "source": [
    "# YOUR CODE GOES HERE \n",
    "#Your first task will be to write a simple evaluator of prefix logic expressions with constants. In prefix notation the operator precedes the operands and no operands are required. For example 5+3 in prefix notation is written + 5 3 or 5 * 2 + 3 would be written + * 5 2 3 or + * 5 2 * 3 4 is equivalent to (5 * 2) + (3 * 4). \n",
    "#The following logical operators will be used (with their standard meanings):\n",
    "#&    (and), \n",
    "#|    (or), \n",
    "# =>   (implication) \n",
    "# <=>  (biconditional) \n",
    "#Your function should take as input a string with the prefix expression and return the result of evaluating the expression (basically a 1 for true and 0 for false). You can split a string to a list using .split[' ']. For this part of the assignment you only evaluate expressions with two constant operands i.e no nested/recursive expressions. \n",
    "\n",
    "def evaluate_prefix_logic(expression):\n",
    "    #if expression is not a list, split it into a list\n",
    "    if type(expression) != list:\n",
    "        expression = expression.split(' ')\n",
    "    if expression[0] == '&':\n",
    "        return int(expression[1]) and int(expression[2])\n",
    "    if expression[0] == '|':\n",
    "        return int(expression[1]) or int(expression[2])\n",
    "    if expression[0] == '=>':\n",
    "        return int(not int(expression[1])) or int(expression[2])\n",
    "    if expression[0] == '<=>':\n",
    "        return int(int(expression[1]) == int(expression[2]))\n",
    "    \n",
    "# print(evaluate_prefix_logic('=> 1 0')) # 0\n",
    "# print(evaluate_prefix_logic('<=> 1 0')) # 0\n",
    "# print(evaluate_prefix_logic('<=> 1 1')) # 1\n",
    "# print(evaluate_prefix_logic('=> 1 1')) # 1\n",
    "# print(evaluate_prefix_logic('& 0 0')) # 0\n",
    "# print(evaluate_prefix_logic('| 0 0')) # 0\n",
    "# print(evaluate_prefix_logic('=> 0 0')) # 1\n",
    "print(evaluate_prefix_logic('=> 0 1')) # 1\n"
   ]
  },
  {
   "cell_type": "markdown",
   "metadata": {},
   "source": [
    "### Question 2 (Basic) - 2 Marks\n",
    "\n",
    "Your next task is to implement variables and bindings for your propositional logic evaluator. In this version in addition to constants (0 and 1) you also can have variables which are strings with associated values provided in a dictionary. You still only consider two operands and one operator (no nesting). For example in the code below \n",
    "the three expressions are equivalent. Your function should take as arguments the expression to be evaluated as a string and the dictionary with the variable bindings. In addition you need to add the ~ (not) operator. To do so for each variable in the dictionary add a not version. For example if 'a' in the dictionary has a value of 1 the '~a' in the dictionary should have a value of 0. Notice that the not symbol is part of the string and it is NOT separated by a space. \n",
    "\n"
   ]
  },
  {
   "cell_type": "code",
   "execution_count": 48,
   "metadata": {},
   "outputs": [
    {
     "name": "stdout",
     "output_type": "stream",
     "text": [
      "{'foo': 0, 'b': 1}\n"
     ]
    }
   ],
   "source": [
    "d = {'foo': 0, 'b': 1}\n",
    "a = {'foo': 1, 'b': 1}\n",
    "print(d)\n",
    "expr1 = '& 0 1'\n",
    "expr2 = '& foo 1'\n",
    "expr3 = '& foo ~b'\n",
    "expr4 = '=> 0 1'"
   ]
  },
  {
   "cell_type": "code",
   "execution_count": 49,
   "metadata": {
    "scrolled": true
   },
   "outputs": [
    {
     "data": {
      "text/plain": [
       "1"
      ]
     },
     "execution_count": 49,
     "metadata": {},
     "output_type": "execute_result"
    }
   ],
   "source": [
    "# YOUR CODE GOES HERE \n",
    "#Your next task is to implement variables and bindings for your propositional logic evaluator. In this version in addition to constants (0 and 1) you also can have variables which are strings with associated values provided in a dictionary. You still only consider two operands and one operator (no nesting). For example in the code below \n",
    "#the three expressions are equivalent. Your function should take as arguments the expression to be evaluated as a string and the dictionary with the variable bindings. In addition you need to add the ~ (not) operator. To do so for each variable in the dictionary add a not version. For example if 'a' in the dictionary has a value of 1 the '~a' in the dictionary should have a value of 0. Notice that the not symbol is part of the string and it is NOT separated by a space. \n",
    "\n",
    "def evaluate_prefix_logic_with_bindings(expression, bindings={}):\n",
    "    # use evaluate_prefix_logic to evaluate the expression\n",
    "    # bindings is a dictionary with key value pairs\n",
    "    # if expression is not a list, split it into a list\n",
    "    if type(expression) != list:\n",
    "        expression = expression.split(' ')\n",
    "    # check elements in expression to see if they have ~ in front of them\n",
    "    for i in range(len(expression)):\n",
    "        if expression[i][0] == '~':\n",
    "            # if the element has ~ in front of it, remove the ~ and check if it is in the bindings dictionary\n",
    "            # if it is in the dictionary, change the element in the expression base on the value of the key in the dictionary, if value is 1, change to 0 and vice versa\n",
    "            expression[i] = expression[i][1:]\n",
    "            if expression[i] in bindings:\n",
    "                expression[i] = str(int(not bindings[expression[i]]))\n",
    "    # check if the elements in the expression are in the bindings dictionary and change them to the value of the key in the dictionary\n",
    "    for i in range(len(expression)):\n",
    "        if expression[i] in bindings:\n",
    "            expression[i] = str(bindings[expression[i]])\n",
    "    # print(expression)\n",
    "    return evaluate_prefix_logic(expression)\n",
    "    \n",
    "\n",
    "evaluate_prefix_logic_with_bindings(expr4, a) # 0\n",
    "    \n",
    "    \n",
    "    \n"
   ]
  },
  {
   "cell_type": "markdown",
   "metadata": {},
   "source": [
    "### Question 3 (Expected) - 6 Marks\n",
    "\n",
    "\n",
    "The following code is a recursive evaluator for prefix arithmetic expressions. It assumes that there are always two operands either an integer or a prefix expression starting with an operator (addition or multiplication). It is a good idea to go through this function carefully by hand to understand how the recursion works. \n",
    "\n",
    "Informed by your understanding of the arithmetic recursive_eval function your task is to write a function to implement a recursive prefix logic evaluator. Your evaluator should also support variable bindings using a dictionary as in the previous question. \n",
    "\n",
    "Example expressions: \n",
    "```\n",
    "& 1 & 1 a   \n",
    "=> 0 & b ~alice  \n",
    "<=> foo 1 \n",
    "```"
   ]
  },
  {
   "cell_type": "code",
   "execution_count": 50,
   "metadata": {},
   "outputs": [
    {
     "name": "stdout",
     "output_type": "stream",
     "text": [
      "1\n",
      "3\n",
      "7\n",
      "28\n"
     ]
    }
   ],
   "source": [
    "def recursive_eval(l):\n",
    "    head, tail = l[0], l[1:]\n",
    "    if head in ['+', '*']: \n",
    "        val1, tail = recursive_eval(tail)\n",
    "        val2, tail = recursive_eval(tail)\n",
    "        if head == '+': \n",
    "            return (int(val1)+int(val2), tail)\n",
    "        elif head == '*':  \n",
    "            return (int(val1)*int(val2), tail)\n",
    "    # operator is a number \n",
    "    else:  \n",
    "        return (int(head),tail)\n",
    "\n",
    "def prefix_eval(input_str): \n",
    "    input_list = input_str.split(' ')\n",
    "    res, tail = recursive_eval(input_list)\n",
    "    return res\n",
    "\n",
    "print(prefix_eval('1'))\n",
    "print(prefix_eval('+ 1 2'))\n",
    "print(prefix_eval('+ 1 * 2 3'))\n",
    "print(prefix_eval('+ * 5 2 * 3 + 1 5'))\n"
   ]
  },
  {
   "cell_type": "code",
   "execution_count": 51,
   "metadata": {
    "scrolled": true
   },
   "outputs": [
    {
     "data": {
      "text/plain": [
       "1"
      ]
     },
     "execution_count": 51,
     "metadata": {},
     "output_type": "execute_result"
    }
   ],
   "source": [
    "# YOUR CODE GOES HERE \n",
    "def recursive_prefix_logic_eval(expression, bindings={}):\n",
    "    head, tail = expression[0], expression[1:]\n",
    "    if head in ['&', '|', '=>', '<=>']: \n",
    "        val1, tail = recursive_prefix_logic_eval(tail, bindings)\n",
    "        val2, tail = recursive_prefix_logic_eval(tail, bindings)\n",
    "        if head == '&': \n",
    "            return (int(val1) and int(val2), tail)\n",
    "        elif head == '|':  \n",
    "            return (int(val1) or int(val2), tail)\n",
    "        elif head == '=>':  \n",
    "            return (int(not int(val1)) or int(val2), tail)\n",
    "        elif head == '<=>':  \n",
    "            return (int(int(val1) == int(val2)), tail)\n",
    "    else:  \n",
    "        if head[0] == '~':\n",
    "            head = head[1:]\n",
    "            if head in bindings:\n",
    "                head = str(int(not bindings[head]))\n",
    "        if head in bindings:\n",
    "            head = str(bindings[head])\n",
    "        return (int(head),tail)\n",
    "\n",
    "def prefix_logic_eval(input_str, bindings={}): \n",
    "    input_list = input_str.split(' ')\n",
    "    res, tail = recursive_prefix_logic_eval(input_list, bindings)\n",
    "    return res\n",
    "x = {'foo': 0, 'a': 1, 'alice': 0, 'b': 1}\n",
    "expr4 = '=> alice & 1 & 1 & a 1'\n",
    "expr5 = '=> 0 & b ~alice'\n",
    "prefix_logic_eval(expr4, x) # 1\n",
    "#prefix_logic_eval(expr5, x) # 0\n",
    "\n"
   ]
  },
  {
   "cell_type": "markdown",
   "metadata": {},
   "source": [
    "### QUESTION 4 (EXPECTED) - 5 Marks"
   ]
  },
  {
   "cell_type": "markdown",
   "metadata": {},
   "source": [
    "\n",
    "Using the recursive prefix evaluator you defined in the previous question \n",
    "answer the following question (you will need to convert the exressions below \n",
    "to prefix). You can use multiple string assignments to assemble more complicated \n",
    "sentences into one big string: \n",
    "\n",
    "\n",
    "Let A be the formula: \n",
    "\n",
    "\\begin{equation} \n",
    "  (( p_{1} \\rightarrow (p2 \\land p_{3})) \\land ((\\neg p_{1})\n",
    "  \\rightarrow (p_{3} \\land p_{4})))\n",
    "\\end{equation} \n",
    "\n",
    "Let B be the formula: \n",
    "\n",
    "\\begin{equation} \n",
    "  (( p_{3} \\rightarrow (\\neg p_{6})) \\land ((\\neg\n",
    "  p_{3}) \\rightarrow (p_{4} \\rightarrow p_{1})))  \n",
    "\\end{equation} \n",
    "\n",
    "Let C be the formula: \n",
    "\n",
    "\\begin{equation} \n",
    "  ((\\neg(p2 \\land p_{5})) \\land (p2 \\rightarrow p_{5})) \n",
    "\\end{equation} \n",
    "\n",
    "Let D be the formula: \n",
    "\n",
    "\\begin{equation} \n",
    "  (\\neg (p_{3} \\rightarrow p_{6}))\n",
    "\\end{equation} \n",
    "\n",
    "Evaluate the formulate E: \n",
    "\\begin{equation} \n",
    "  (( A \\land (B \\land C)) \\rightarrow D)\n",
    "\\end{equation} \n",
    "\n",
    "under the true assignment $I_{1}$, where $I_{1}(p_{1}) = I_{1}(p_{3}) = I_{1}(p_{5}) = false$ \n",
    "and $I_{1}(p2) = I_{1}(p_{4}) = I_{1}(p_{6}) = true$ as well as under the truth assignment \n",
    "$I_{2}$, where $I_{2}(p_{1}) = I_{2}(p_{3}) = I_{2}(p_{5}) = true$ and\n",
    "$I_{2}(p_{2})=I_{2}(p_{4})=I_{2}(p_{6}) = false$. \n"
   ]
  },
  {
   "cell_type": "code",
   "execution_count": 52,
   "metadata": {},
   "outputs": [
    {
     "name": "stdout",
     "output_type": "stream",
     "text": [
      "0\n",
      "0\n",
      "0\n",
      "0\n",
      "0\n",
      "1\n",
      "1\n",
      "1\n",
      "1\n",
      "1\n"
     ]
    }
   ],
   "source": [
    "## YOUR CODDE GOES HERE \n",
    "l1 = {'p1': 0, 'p3': 0, 'p5': 0, 'p2': 1, 'p4': 1, 'p6': 1}\n",
    "l2 = {'p1': 1, 'p3': 1, 'p5': 1, 'p2': 0, 'p4': 0, 'p6': 0}\n",
    "\n",
    "testA = '& => p1 & p2 p3 => ~p1 & p3 p4'\n",
    "testB = '& => p3 ~p6 => ~p3 => p4 p1'\n",
    "testC = '& | ~p2 ~p5 => p2 p5'\n",
    "testD = '& p3 ~p6'\n",
    "#testE = '=> & ' + testA + ' & ' + testB + ' ' + testC + ' ' + testD\n",
    "def testE(testA, testB, testC, testD, list={}):\n",
    "    testA = prefix_logic_eval(testA, list)\n",
    "    testB = prefix_logic_eval(testB, list)\n",
    "    testC = prefix_logic_eval(testC, list)\n",
    "    testD = prefix_logic_eval(testD, list)\n",
    "    testE = '=> & ' + str(testA) + ' & ' + str(testB) + ' ' + str(testC) + ' ' + str(testD)\n",
    "    testE = prefix_logic_eval(testE, list)\n",
    "    return testE\n",
    "\n",
    "print(prefix_logic_eval(testA, l1))\n",
    "print(prefix_logic_eval(testB, l1))\n",
    "print(prefix_logic_eval(testC, l1))\n",
    "print(prefix_logic_eval(testD, l1))\n",
    "print(prefix_logic_eval(testA, l2))\n",
    "print(prefix_logic_eval(testB, l2))\n",
    "print(prefix_logic_eval(testC, l2))\n",
    "print(prefix_logic_eval(testD, l2))\n",
    "\n",
    "print(testE(testA, testB, testC, testD, l1))\n",
    "print(testE(testA, testB, testC, testD, l2))"
   ]
  },
  {
   "cell_type": "markdown",
   "metadata": {},
   "source": [
    "### QUESTION 5 (ADVANCED) - 9 Marks\n",
    "\n",
    "Implement inference using model-checking using your prefix recursive evaluator to decide whether a knowledge base KB entails some sentence a. To do so:\n",
    "1. express the knowledge base in the prefix notation\n",
    "2. enumerate all models for the variables in the dictionary\n",
    "3. check that the sentence a is true in every model in which the KB is true. \n",
    "\n",
    "You can check the implementation to tt_entails in logic.ipynb in the aima_python repository to inform how you implement your solution. Your solution should NOT rely directly on any code in logic.py or logic.ipynb. \n",
    "\n",
    "Check you model checking by showing whether A & (B | C) & D & E & (~F & ~G) entails A & D & E & ~F & ~G. \n",
    "You will need to convert this example to prefix notation. It is also a good idea to check a \n",
    "few simple cases to confirm that your approach works. \n"
   ]
  },
  {
   "cell_type": "code",
   "execution_count": 53,
   "metadata": {},
   "outputs": [
    {
     "name": "stdout",
     "output_type": "stream",
     "text": [
      "0\n",
      "0\n"
     ]
    },
    {
     "data": {
      "text/plain": [
       "True"
      ]
     },
     "execution_count": 53,
     "metadata": {},
     "output_type": "execute_result"
    }
   ],
   "source": [
    "# YOUR CODE GOES HERE \n",
    "\"\"\" Implement inference using model-checking using your prefix recursive evaluator to decide whether a knowledge base KB entails some sentence a. To do so:\n",
    "1. express the knowledge base in the prefix notation\n",
    "2. enumerate all models for the variables in the dictionary\n",
    "3. check that the sentence a is true in every model in which the KB is true. \n",
    "\n",
    "You can check the implementation to tt_entails in logic.ipynb in the aima_python repository to inform how you implement your solution. Your solution should NOT rely directly on any code in logic.py or logic.ipynb. \n",
    "\n",
    "Check you model checking by showing whether A & (B | C) & D & E & (~F & ~G) entails A & D & E & ~F & ~G. \n",
    "You will need to convert this example to prefix notation. It is also a good idea to check a \n",
    "few simple cases to confirm that your approach works. \n",
    "\"\"\"\n",
    "\n",
    "def my_entails(KB, a, list={'A': 1, 'B': 1, 'C': 0, 'D': 1, 'E': 1, 'F': 1, 'G': 1}):\n",
    "    KB = prefix_logic_eval(KB, list)\n",
    "    print(KB)\n",
    "    a = prefix_logic_eval(a, list)\n",
    "    print(a)\n",
    "    return KB == a\n",
    "\n",
    "my_entails('& A & | B C & D & E & ~F ~G', '& & & A D E ~F ~G') # True\n",
    "\n"
   ]
  },
  {
   "cell_type": "markdown",
   "metadata": {},
   "source": [
    "## Knowledge Base (Using AIMA code)\n",
    "\n",
    "In this part of the assignment, your task is to incrementally create a parser and evaluator for prefix logic expressions as well as implement simple model checking. "
   ]
  },
  {
   "cell_type": "markdown",
   "metadata": {},
   "source": [
    "### Question 6 (Basic) - 5 Marks\n",
    "\n",
    "Consider the following propositional logic knowledge base.\n",
    "\n",
    "It is not sunny this afternoon and it is colder than yesterday.\n",
    "We will go swimming only if it is sunny.\n",
    "If we do not go swimming then we will take a canoe trip.\n",
    "If we take a canoe trip, then we will be home by sunset.\n",
    "Denote:\n",
    "\n",
    "* p = It is sunny this afternoon\n",
    "* q = It is colder than yesterday\n",
    "* r = We will go swimming\n",
    "* s= We will take a canoe trip\n",
    "* t= We will be home by sunset\n",
    "\n",
    "Express this knowledge base using propositional logic using the expression syntax used in logic.ipynb. You can incorporate any code you need from logic.ipynb and logic.py. Using both model checking and theorem proving inference (you can use the implementations provided in logic.py) show that this knowledge base entails the sentence if it is not sunny this afternoon then we will be home by sunset. "
   ]
  },
  {
   "cell_type": "code",
   "execution_count": 65,
   "metadata": {},
   "outputs": [
    {
     "data": {
      "text/plain": [
       "True"
      ]
     },
     "execution_count": 65,
     "metadata": {},
     "output_type": "execute_result"
    }
   ],
   "source": [
    "import sys\n",
    "sys.path.append('/Users/jacksonlu/Documents/GitHub/aima-python')\n",
    "from logic import *\n",
    "# YOUR CODE GOES HERE \n",
    "# KB = (~p & q) r & p  \n",
    "q6_kb = PropKB()\n",
    "q6_kb.tell(expr('~P & Q'))\n",
    "q6_kb.tell(expr('R ==> P'))\n",
    "q6_kb.tell(expr('~R ==> S'))\n",
    "q6_kb.tell(expr('S ==> T'))\n",
    "#q6_kb.clauses\n",
    "\n",
    "q6_alpha = expr('~P ==> T')\n",
    "q6_kb.ask_if_true(q6_alpha) \n",
    "\n"
   ]
  },
  {
   "cell_type": "markdown",
   "metadata": {},
   "source": [
    "# Part 2 First-Order Logic"
   ]
  },
  {
   "cell_type": "markdown",
   "metadata": {},
   "source": [
    "## Part 1 Kinship Domain"
   ]
  },
  {
   "cell_type": "markdown",
   "metadata": {},
   "source": [
    "### QUESTION 7 (EXPECTED) - 5 Marks\n",
    "\n",
    "#### The Simpsons Family\n",
    "\n",
    "You will encode a modified version of the kinship domain described in section 8.3.2 of the textbook using prolog to encode as facts the relationships between the members of the Simpsons family from the popular TV show. You will code in the browser, but not in Jupyter, here: https://swish.swi-prolog.org/ **You must put this code in this notebook for marking below.**\n",
    "\n",
    "First start with creating the modified kinship domain described here. A gender-neutral kinship domain that captures the following binary predicates:\n",
    "Parent, Sibling, Child, Spouse, Grandparent\n",
    "\n",
    "Then encode the relationships of the Simpsons family (see questions below to see how many characters you need to represent):\n",
    "https://en.wikipedia.org/wiki/Simpson_family\n",
    "\n",
    "Show how the following queries can be answered using this KB: \n",
    "\n",
    "* Who are the children of Homer? \n",
    "* Who are the parents of Bart? \n",
    "* Are Lisa and Homer siblings? \n",
    "* Are Lisa and Bart siblings?\n",
    "* Who are Lisa and Bart's grandparents?"
   ]
  },
  {
   "cell_type": "code",
   "execution_count": null,
   "metadata": {},
   "outputs": [],
   "source": [
    "# YOUR CODE GOES HERE \n",
    "parent(homer, bart).\n",
    "parent(homer, lisa).\n",
    "parent(marge, maggie).\n",
    "parent(marge, bart).\n",
    "parent(marge, lisa).\n",
    "parent(abraham, homer).\n",
    "parent(mona, homer).\n",
    "parent(jacqueline, marge).\n",
    "parent(clarence, marge).\n",
    "child(bart, homer).\n",
    "child(bart, marge).\n",
    "child(lisa, homer).\n",
    "child(lisa, marge).\n",
    "child(maggie, homer).\n",
    "child(maggie, marge).\n",
    "\n",
    "grandparents(X, Y, U) :- parent(Z, X), parent(U, Z), parent(Z, Y), parent(U, Z).\n",
    "children(X, Y) :- child(Y, X).\n",
    "parents(X, Y) :- parent(Y, X).\n",
    "siblings(X, Y) :- parent(Z, X), parent(Z, Y)."
   ]
  },
  {
   "cell_type": "markdown",
   "metadata": {},
   "source": [
    "## Part 2 FOL Object Arrangements in Legoworld"
   ]
  },
  {
   "cell_type": "markdown",
   "metadata": {},
   "source": [
    "### QUESTION 8 (EXPECTED) - 10 Marks\n",
    "\n",
    "\n",
    "#### Legoworld \n",
    "\n",
    "\n",
    "In this question we explore the use of FOL to encode knowledge about the objects \n",
    "and arrangement of a simple world created by different lego pieces. Our world \n",
    "will consist of making simple structure by placing lego pieces on top of each other. \n",
    "Each lego piece will be identified by a unique identifier (the letters in the figure below). \n",
    "\n",
    "Let's look at a specific example where each piece is labeled by a letter: \n",
    "\n",
    "<img src=\"lego_letters.png\" width=\"60%\"/>\n",
    "\n",
    "This corresponds to the following picture: \n",
    "\n",
    "<img src=\"lego2.png\" width=\"60%\"/>\n",
    "\n",
    "\n",
    "\n",
    "We can use the following predicates to model the world: \n",
    "* OnPlate(p): p is attached to the bottom plate \n",
    "* On(p1,p2): piece p1 is placed on top of piece p2 \n",
    "* AtLeft(p1,p2): piece p1 and piece p2 are placed on the plate, and piece p1 is direct at the left of p2 \n",
    "* Color(p,c): The color of piece p is c (Red, Grey, Brown, White, Yellow, Blue) \n",
    "* Type(p,t): The type of piece p is t (Brick, Plate, Tile) \n",
    "\n",
    "<img src=\"lego3.png\" width=\"20%\"/>\n",
    "\n",
    "\n",
    "Each pieces will be identified by the letters appearing in the picture. The thicker brick with studs will have type  Brick, the thinner brick with studs is of type Plate, and the one that is flat on the top is of type Tile. \n",
    "\n",
    "\n",
    "Use the FO KB implementation in logic.py to: \n",
    "\n",
    "1. Write a database of facts which models the world in the picture. For example you can use clauses.append(expr('TypeOf(A,Brick)')) to state that lego piece A is a Brick. \n",
    "\n",
    "2. Based exclusively on using these predicates (OnPlate, On, AtLeft), define the following predicates:\n",
    "    1. Base(b1, b2): b2 is the base of the tower containing b1.\n",
    "    2. Base_at_right(b1, b2): b1 and b2 are on the plate, and b2 is at the right (but perhaps not directly) of b1.\n",
    "    3. Object_at_right(b1, b2): b1 is in a pile which is at the right (but perhaps not directly) of b2.\n",
    "    \n",
    "    \n",
    "The above predicates must work for any world defined using the facts specified by on_plate, on, \n",
    "at_left not just the specific example encoded above. In other words, these predicates should be defined \n",
    "in terms of the existing predicates and variables. As an example here is the definition of Base. \n",
    "\n",
    "    * clauses.append(expr('OnPlate(x) ==> Base(x,x)'))\n",
    "    * clauses.append(expr('On(x,z) & Base (z,y) ==> Base(x,y)'))\n",
    "    \n",
    "This is a recursive definition it is a good idea to see how it works by doing substitutions by hand. \n",
    "\n",
    "\n",
    "3. Using the KB you created answer the following queries: \n",
    "    1. Is piece B on top of piece C? \n",
    "    2. What is the type and color of the piece on top of C? \n",
    "    3. What is the type of the base of H? \n",
    "    4. What are the bricks that are right of C? \n",
    "    5. What are all the bricks that are on top of i ? \n",
    "\n",
    "\n",
    "\n",
    "\n"
   ]
  },
  {
   "cell_type": "code",
   "execution_count": null,
   "metadata": {},
   "outputs": [],
   "source": [
    "# YOUR CODE GOES HERE \n"
   ]
  }
 ],
 "metadata": {
  "kernelspec": {
   "display_name": "Python 3 (ipykernel)",
   "language": "python",
   "name": "python3"
  },
  "language_info": {
   "codemirror_mode": {
    "name": "ipython",
    "version": 3
   },
   "file_extension": ".py",
   "mimetype": "text/x-python",
   "name": "python",
   "nbconvert_exporter": "python",
   "pygments_lexer": "ipython3",
   "version": "3.12.1"
  }
 },
 "nbformat": 4,
 "nbformat_minor": 4
}
