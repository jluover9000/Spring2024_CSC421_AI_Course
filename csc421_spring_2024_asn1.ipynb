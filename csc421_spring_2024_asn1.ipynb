{
 "cells": [
  {
   "cell_type": "markdown",
   "metadata": {},
   "source": [
    "# CSC421 Assignment 1 Search, and CSP \n",
    "\n",
    "This assignment notebook explores topics covered in **Chapter 3 - Searching** and **Chapter 6 - Constraint Satisfaction Problems** from the book *Artificial Intelligence: A Modern Approach.* The code provided is based on parts of the aima-code repository but has been adapted, modified and simplified for the purposes of the assignment. The notebook is self-contained and other than importing a few common packages you don't need to access any additional code. \n",
    "\n",
    "You are welcome (and it can be educational) to look at the code at the aima-code repository and other code resources you can find on the web or ask ChatGPT. However, make sure you understand any code that you incorporate and submit. Plagiarism checking will be done. Additionally, at the teaching team's discretion, a random subset of students may be examined in person and asked questions about the code submitted. Failure to understand the submitted code will result in a 0 grade for the entire assignment. \n",
    "\n",
    "The assignment structure is as follows: \n",
    "\n",
    "1. Search (Basic) -  Add a connection to the Romania map, try out search, print paths\n",
    "2. Search (Basic) -  Return frontier lengths\n",
    "3. Search (Expected) - RandomSearch  \n",
    "4. Search (Expected) - Change the grid problem to 4 directions and modulo movement \n",
    "5. Search (Expected) - Landgrid problem and manhattan distance\n",
    "6. CSP (Basic): Basic CSP for a map of Australia with unitary constraint  \n",
    "7. CSP (Advanced): Type inference toy example as CSP  \n",
    "\n",
    "**IMPORTANT:** An assignment through Brightspace will provide the complete submission details. You will be required to submit this notebook. For working on the assignment, I recommend using the Jupyter-lab interface as it supports interactive development and is helpful for visualizations and plots. Please make sure the notebook you submit is clean, it should not be so heavily modified with debugging, figures, etc. that it becomes difficult to mark. Make sure that the notebook you submit is functioning and that you have used best practices in ensuring that (reloading the notebook, clearing history/memory, HINT: you may need to force refresh your browser (e.g., crtl+F5), ensuring that the submission is actually what you intend to submit for marking). We will **NOT** accept changes after the deadline if you have made a submission mistake."
   ]
  },
  {
   "cell_type": "code",
   "execution_count": 2,
   "metadata": {},
   "outputs": [],
   "source": [
    "## ABSTRACT PROBLEM CLASS \n",
    "\n",
    "%matplotlib inline\n",
    "import matplotlib.pyplot as plt\n",
    "import random\n",
    "import heapq\n",
    "import math\n",
    "import sys\n",
    "from collections import defaultdict, deque, Counter\n",
    "from itertools import combinations\n",
    "\n",
    "class Problem(object):\n",
    "    \"\"\"The abstract class for a formal problem. A new domain subclasses this,\n",
    "    overriding `actions` and `results`, and perhaps other methods.\n",
    "    The default heuristic is 0 and the default action cost is 1 for all states.\n",
    "    When yiou create an instance of a subclass, specify `initial`, and `goal` states \n",
    "    (or give an `is_goal` method) and perhaps other keyword args for the subclass.\"\"\"\n",
    "\n",
    "    def __init__(self, initial=None, goal=None, **kwds): \n",
    "        self.__dict__.update(initial=initial, goal=goal, **kwds) \n",
    "        \n",
    "    def actions(self, state):        raise NotImplementedError\n",
    "    def result(self, state, action): raise NotImplementedError\n",
    "    def is_goal(self, state):        return state == self.goal\n",
    "    def action_cost(self, s, a, s1): return 1\n",
    "    def h(self, node):               return 0\n",
    "    \n",
    "    def __str__(self):\n",
    "        return '{}({!r}, {!r})'.format(\n",
    "            type(self).__name__, self.initial, self.goal)\n",
    "\n",
    "class Node:\n",
    "    \"A Node in a search tree.\"\n",
    "    def __init__(self, state, parent=None, action=None, path_cost=0):\n",
    "        self.__dict__.update(state=state, parent=parent, action=action, path_cost=path_cost)\n",
    "\n",
    "    def __repr__(self): return '<{}>'.format(self.state)\n",
    "    def __len__(self): return 0 if self.parent is None else (1 + len(self.parent))\n",
    "    def __lt__(self, other): return self.path_cost < other.path_cost\n",
    "    \n",
    "failure = Node('failure', path_cost=math.inf) # Indicates an algorithm couldn't find a solution.\n",
    "cutoff  = Node('cutoff',  path_cost=math.inf) # Indicates iterative deepening search was cut off.\n",
    "       \n",
    "def expand(problem, node):\n",
    "    \"Expand a node, generating the children nodes.\"\n",
    "    s = node.state\n",
    "    for action in problem.actions(s):\n",
    "        s1 = problem.result(s, action)\n",
    "        cost = node.path_cost + problem.action_cost(s, action, s1)\n",
    "        yield Node(s1, node, action, cost)\n",
    "        \n",
    "def path_actions(node):\n",
    "    \"The sequence of actions to get to this node.\"\n",
    "    if node.parent is None:\n",
    "        return []  \n",
    "    return path_actions(node.parent) + [node.action]\n",
    "\n",
    "def path_states(node):\n",
    "    \"The sequence of states to get to this node.\"\n",
    "    if node in (cutoff, failure, None): \n",
    "        return []\n",
    "    return path_states(node.parent) + [node.state]"
   ]
  },
  {
   "cell_type": "code",
   "execution_count": 3,
   "metadata": {},
   "outputs": [],
   "source": [
    "# PriorityQueue - note \n",
    "# there is a small difference from the \n",
    "# book implementation in order to ensure \n",
    "# sorting stability \n",
    "\n",
    "class PriorityQueue:\n",
    "    \"\"\"A queue in which the item with minimum f(item) is always popped first.\"\"\"\n",
    "\n",
    "    def __init__(self, items=(), key=lambda x: x): \n",
    "        self.key = key\n",
    "        self.items = [] # a heap of (score, item) pairs\n",
    "        self.item_count = 0 \n",
    "        for item in items:\n",
    "            self.add(item)\n",
    "         \n",
    "    def add(self, item):\n",
    "        \"\"\"Add item to the queuez.\"\"\"\n",
    "        pair = ((self.key(item),self.item_count), item)\n",
    "        heapq.heappush(self.items, pair)\n",
    "        self.item_count+=1  \n",
    "\n",
    "    def pop(self):\n",
    "        \"\"\"Pop and return the item with min f(item) value.\"\"\"\n",
    "        return heapq.heappop(self.items)[1]\n",
    "    \n",
    "    def top(self): return self.items[0][1]\n",
    "\n",
    "    def get_items(self): \n",
    "        return self.items.copy() \n",
    "\n",
    "    def __len__(self): return len(self.items)"
   ]
  },
  {
   "cell_type": "code",
   "execution_count": 4,
   "metadata": {},
   "outputs": [],
   "source": [
    "# Different search algorithms \n",
    "# defined by appropriate definition of priorities \n",
    "\n",
    "\n",
    "def best_first_search(problem, f):\n",
    "    \"Search nodes with minimum f(node) value first.\"\n",
    "    node = Node(problem.initial)\n",
    "    frontier = PriorityQueue([node], key=f)\n",
    "    reached = {problem.initial: node}\n",
    "    frontiers = [] \n",
    "    while frontier:\n",
    "        frontier_items = frontier.get_items()\n",
    "        frontiers.append(frontier_items)\n",
    "        node = frontier.pop()\n",
    "        \n",
    "        if problem.is_goal(node.state):\n",
    "            return (node,reached,frontiers)\n",
    "        for child in expand(problem, node):\n",
    "            s = child.state\n",
    "            if s not in reached or child.path_cost < reached[s].path_cost:\n",
    "                reached[s] = child\n",
    "                frontier.add(child)\n",
    "        \n",
    "    return (failure, reached, frontiers)\n",
    "\n",
    "def g(n): return n.path_cost\n",
    "\n",
    "def astar_search(problem, h=None):\n",
    "    \"\"\"Search nodes with minimum f(n) = g(n) + h(n).\"\"\"\n",
    "    h = h or problem.h\n",
    "    return best_first_search(problem, f=lambda n: g(n) + h(n))\n",
    "        \n",
    "def greedy_bfs(problem, h=None):\n",
    "    \"\"\"Search nodes with minimum h(n).\"\"\"\n",
    "    h = h or problem.h\n",
    "    return best_first_search(problem, f=h)\n",
    "\n",
    "def uniform_cost_search(problem):\n",
    "    \"Search nodes with minimum path cost first.\"\n",
    "    return best_first_search(problem, f=g)\n",
    "\n",
    "def breadth_first_bfs(problem):\n",
    "    \"Search shallowest nodes in the search tree first; using best-first.\"\n",
    "    return best_first_search(problem, f=len)\n"
   ]
  },
  {
   "cell_type": "markdown",
   "metadata": {},
   "source": [
    "# QUESTION 1 Search (Basic) - 5 points\n",
    "\n",
    "This question looks at how the RouteProblem works using the classic map of Romania. \n",
    "1. Create a copy of the map of Romania specified below and call it romania_new\n",
    "2. Add a connection from Sibiu to Bucharest with a cost of 280 in romania_new\n",
    "3. Create a new RouteProblem called r_new using the romania_new map\n",
    "4. Run **BreadthFirstSearch** search for the pair Arad(initial state) to Bucharest (goal state) for the new map **romania_new** print the solution path\n",
    "5. Run **UniformCostSearch** search for the pair Arad(initial state) to Bucharest (goal state) for the new map **romania_new** print the solution path\n",
    "\n",
    "*Note an example route problems, search call, and printing is provided below*"
   ]
  },
  {
   "cell_type": "code",
   "execution_count": 5,
   "metadata": {},
   "outputs": [],
   "source": [
    "class RouteProblem(Problem):\n",
    "    \"\"\"A problem to find a route between locations on a `Map`.\n",
    "    Create a problem with RouteProblem(start, goal, map=Map(...)}).\n",
    "    States are the vertexes in the Map graph; actions are destination states.\"\"\"\n",
    "    \n",
    "    def actions(self, state): \n",
    "        \"\"\"The places neighboring `state`.\"\"\"\n",
    "        return self.map.neighbors[state]\n",
    "    \n",
    "    def result(self, state, action):\n",
    "        \"\"\"Go to the `action` place, if the map says that is possible.\"\"\"\n",
    "        return action if action in self.map.neighbors[state] else state\n",
    "    \n",
    "    def action_cost(self, s, action, s1):\n",
    "        \"\"\"The distance (cost) to go from s to s1.\"\"\"\n",
    "        return self.map.distances[s, s1]\n",
    "    \n",
    "    def h(self, node):\n",
    "        \"Straight-line distance between state and the goal.\"\n",
    "        locs = self.map.locations\n",
    "        return straight_line_distance(locs[node.state], locs[self.goal])\n",
    "    \n",
    "    \n",
    "def straight_line_distance(A, B):\n",
    "    \"Straight-line distance between two points.\"\n",
    "    return sum(abs(a - b)**2 for (a, b) in zip(A, B)) ** 0.5"
   ]
  },
  {
   "cell_type": "code",
   "execution_count": 6,
   "metadata": {},
   "outputs": [],
   "source": [
    "class Map:\n",
    "    \"\"\"A map of places in a 2D world: a graph with vertexes and links between them. \n",
    "    In `Map(links, locations)`, `links` can be either [(v1, v2)...] pairs, \n",
    "    or a {(v1, v2): distance...} dict. Optional `locations` can be {v1: (x, y)} \n",
    "    If `directed=False` then for every (v1, v2) link, we add a (v2, v1) link.\"\"\"\n",
    "\n",
    "    def __init__(self, links, locations=None, directed=False):\n",
    "        if not hasattr(links, 'items'): # Distances are 1 by default\n",
    "            links = {link: 1 for link in links}\n",
    "        if not directed:\n",
    "            for (v1, v2) in list(links):\n",
    "                links[v2, v1] = links[v1, v2]\n",
    "        self.distances = links\n",
    "        self.neighbors = multimap(links)\n",
    "        self.locations = locations or defaultdict(lambda: (0, 0))\n",
    "\n",
    "        \n",
    "def multimap(pairs) -> dict:\n",
    "    \"Given (key, val) pairs, make a dict of {key: [val,...]}.\"\n",
    "    result = defaultdict(list)\n",
    "    for key, val in pairs:\n",
    "        result[key].append(val)\n",
    "    return result"
   ]
  },
  {
   "cell_type": "code",
   "execution_count": 7,
   "metadata": {},
   "outputs": [
    {
     "name": "stdout",
     "output_type": "stream",
     "text": [
      "['A', 'S', 'R', 'P', 'B']\n"
     ]
    }
   ],
   "source": [
    "# Some specific RouteProblems\n",
    "\n",
    "romania = Map(\n",
    "    {('O', 'Z'):  71, ('O', 'S'): 151, ('A', 'Z'): 75, ('A', 'S'): 140, ('A', 'T'): 118, \n",
    "     ('L', 'T'): 111, ('L', 'M'):  70, ('D', 'M'): 75, ('C', 'D'): 120, ('C', 'R'): 146, \n",
    "     ('C', 'P'): 138, ('R', 'S'):  80, ('F', 'S'): 99, ('B', 'F'): 211, ('B', 'P'): 101, \n",
    "     ('B', 'G'):  90, ('B', 'U'):  85, ('H', 'U'): 98, ('E', 'H'):  86, ('U', 'V'): 142, \n",
    "     ('I', 'V'):  92, ('I', 'N'):  87, ('P', 'R'): 97},\n",
    "    {'A': ( 76, 497), 'B': (400, 327), 'C': (246, 285), 'D': (160, 296), 'E': (558, 294), \n",
    "     'F': (285, 460), 'G': (368, 257), 'H': (548, 355), 'I': (488, 535), 'L': (162, 379),\n",
    "     'M': (160, 343), 'N': (407, 561), 'O': (117, 580), 'P': (311, 372), 'R': (227, 412),\n",
    "     'S': (187, 463), 'T': ( 83, 414), 'U': (471, 363), 'V': (535, 473), 'Z': (92, 539)})\n",
    "\n",
    "\n",
    "r0 = RouteProblem('A', 'A', map=romania)\n",
    "r1 = RouteProblem('A', 'B', map=romania)\n",
    "r2 = RouteProblem('N', 'L', map=romania)\n",
    "r3 = RouteProblem('E', 'T', map=romania)\n",
    "r4 = RouteProblem('O', 'M', map=romania)\n",
    "s1, reached, frontiers = uniform_cost_search(r1)\n",
    "print(path_states(s1))\n",
    "# the answer should be ['A', 'S', 'R', 'P', 'B']"
   ]
  },
  {
   "cell_type": "code",
   "execution_count": 8,
   "metadata": {},
   "outputs": [
    {
     "name": "stdout",
     "output_type": "stream",
     "text": [
      "['A', 'S', 'B']\n",
      "['A', 'S', 'R', 'P', 'B']\n"
     ]
    }
   ],
   "source": [
    "# Your Q1 ANSWER GOES HERE  \n",
    "#This question looks at how the RouteProblem works using the classic map of Romania. \n",
    "#1. Create a copy of the map of Romania specified below and call it romania_new\n",
    "#2. Add a connection from Sibiu to Bucharest with a cost of 280 in romania_new\n",
    "#3. Create a new RouteProblem called r_new using the romania_new map\n",
    "#4. Run **BreadthFirstSearch** search for the pair Arad(initial state) to Bucharest (goal state) for the new map **romania_new** print the solution path\n",
    "#5. Run **UniformCostSearch** search for the pair Arad(initial state) to Bucharest (goal state) for the new map **romania_new** print the solution path\n",
    "romania_new = Map(\n",
    "    {('O', 'Z'):  71, ('O', 'S'): 151, ('A', 'Z'): 75, ('A', 'S'): 140, ('A', 'T'): 118, \n",
    "     ('L', 'T'): 111, ('L', 'M'):  70, ('D', 'M'): 75, ('C', 'D'): 120, ('C', 'R'): 146, \n",
    "     ('C', 'P'): 138, ('R', 'S'):  80, ('F', 'S'): 99, ('B', 'F'): 211, ('B', 'P'): 101, \n",
    "     ('B', 'G'):  90, ('B', 'U'):  85, ('H', 'U'): 98, ('E', 'H'):  86, ('U', 'V'): 142, \n",
    "     ('I', 'V'):  92, ('I', 'N'):  87, ('P', 'R'): 97, ('B', 'S'): 280},\n",
    "    {'A': ( 76, 497), 'B': (400, 327), 'C': (246, 285), 'D': (160, 296), 'E': (558, 294), \n",
    "     'F': (285, 460), 'G': (368, 257), 'H': (548, 355), 'I': (488, 535), 'L': (162, 379),\n",
    "     'M': (160, 343), 'N': (407, 561), 'O': (117, 580), 'P': (311, 372), 'R': (227, 412),\n",
    "     'S': (187, 463), 'T': ( 83, 414), 'U': (471, 363), 'V': (535, 473), 'Z': (92, 539)})\n",
    "\n",
    "#print(romania.distances)\n",
    "r_new = RouteProblem('A', 'B', map=romania_new)\n",
    "s_new, reached, frontiers = breadth_first_bfs(r_new)\n",
    "print(path_states(s_new))\n",
    "s_new, reached, frontiers = uniform_cost_search(r_new)\n",
    "print(path_states(s_new))\n"
   ]
  },
  {
   "cell_type": "markdown",
   "metadata": {},
   "source": [
    "# QUESTION 2 Search (Basic) - 5 points\n",
    "\n",
    "1. Implement the function frontier_lengths.  This function should return a list with the lengths of the frontier during the operation of the search algorithm given the frontier list.\n",
    "2. Now run this function on the output of **uniform_cost_search** for problems r0, r1, r2, and r4 above AND print the object returned (see example below).\n",
    "3. Now run this function on the output of **uniform_cost_search** for problems r_new above AND print the object returned (see example below).\n",
    "4. Now run this function on the output of **breadth_first_bfs** for problems r0, r1, r2, and r4 above AND print the object returned (see example below).\n",
    "5. Now run this function on the output of **breadth_first_bfs** for problems r_new above AND print the object returned (see example below)."
   ]
  },
  {
   "cell_type": "code",
   "execution_count": 9,
   "metadata": {},
   "outputs": [
    {
     "name": "stdout",
     "output_type": "stream",
     "text": [
      "[1, 3, 3, 3, 4, 3, 4, 4, 4, 4, 4, 3, 2]\n"
     ]
    }
   ],
   "source": [
    "# Your Q2 PART 1 ANSWER GOES HERE\n",
    "# 1. Implement the function frontier_lengths.  This function should return a list with the lengths of the frontier during the operation of the search algorithm given the frontier list.\n",
    "# 2. Now run this function on the output of **uniform_cost_search** for problems r0, r1, r2, and r4 above AND print the object returned (see example below).\n",
    "# 3. Now run this function on the output of **uniform_cost_search** for problems r_new above AND print the object returned (see example below).\n",
    "# 4. Now run this function on the output of **breadth_first_bfs** for problems r0, r1, r2, and r4 above AND print the object returned (see example below).\n",
    "# 5. Now run this function on the output of **breadth_first_bfs** for problems r_new above AND print the object returned (see example below).\n",
    "\n",
    "def frontier_lengths(frontiers):\n",
    "    lengths = []\n",
    "    for frontier in frontiers:\n",
    "        lengths.append(len(frontier))\n",
    "    return lengths\n",
    "# An example to illustrate functionality and printing output\n",
    "s1, reached, frontiers = uniform_cost_search(r1)\n",
    "print(frontier_lengths(frontiers))\n",
    "\n",
    "# the answer should be \n",
    "# [1, 3, 3, 3, 4, 3, 4, 4, 4, 4, 4, 3, 2]\n",
    "# [1, 3, 3, 3, 4, 3, 4, 4, 4, 4, 4, 3, 2]"
   ]
  },
  {
   "cell_type": "code",
   "execution_count": 10,
   "metadata": {},
   "outputs": [
    {
     "name": "stdout",
     "output_type": "stream",
     "text": [
      "[1]\n",
      "[1, 3, 3, 3, 4, 3, 4, 4, 4, 4, 4, 3, 2]\n",
      "[1, 1, 1, 1, 2, 4, 4, 3, 2, 3, 3, 2, 2, 3, 3, 4, 3, 3, 2]\n",
      "[1, 2, 2, 2, 3, 4, 4, 4, 4, 4, 4, 5]\n"
     ]
    }
   ],
   "source": [
    "# Q2 PART 2 ANSWER GOES HERE (search and printing of frontier)\n",
    "s0, reached, frontiers = uniform_cost_search(r0)\n",
    "print(frontier_lengths(frontiers))\n",
    "s1, reached, frontiers = uniform_cost_search(r1)\n",
    "print(frontier_lengths(frontiers))\n",
    "s2, reached, frontiers = uniform_cost_search(r2)\n",
    "print(frontier_lengths(frontiers))\n",
    "s4, reached, frontiers = uniform_cost_search(r4)\n",
    "print(frontier_lengths(frontiers))\n"
   ]
  },
  {
   "cell_type": "code",
   "execution_count": 11,
   "metadata": {},
   "outputs": [
    {
     "name": "stdout",
     "output_type": "stream",
     "text": [
      "[1, 3, 3, 3, 5, 4, 5, 5, 4, 4, 4, 3, 2]\n"
     ]
    }
   ],
   "source": [
    "# Q2 PART 3 ANSWER GOES HERE (search and printing of frontier)\n",
    "s_new, reached, frontiers = uniform_cost_search(r_new)\n",
    "print(frontier_lengths(frontiers))\n"
   ]
  },
  {
   "cell_type": "code",
   "execution_count": 12,
   "metadata": {},
   "outputs": [
    {
     "name": "stdout",
     "output_type": "stream",
     "text": [
      "[1]\n",
      "[1, 3, 3, 4, 4, 3, 4, 4, 4, 4, 4]\n",
      "[1, 1, 1, 1, 2, 4, 4, 4, 5, 4, 3, 4, 4, 4, 4, 5, 6, 6, 5, 4, 4, 4, 5, 5]\n",
      "[1, 2, 2, 3, 3, 4, 4, 4, 4, 4, 5, 5, 4, 5, 4, 5]\n"
     ]
    }
   ],
   "source": [
    "# Q2 PART 4 ANSWER GOES HERE (search and printing of frontier)\n",
    "s0, reached, frontiers = breadth_first_bfs(r0)\n",
    "print(frontier_lengths(frontiers))\n",
    "s1, reached, frontiers = breadth_first_bfs(r1)\n",
    "print(frontier_lengths(frontiers))\n",
    "s2, reached, frontiers = breadth_first_bfs(r2)\n",
    "print(frontier_lengths(frontiers))\n",
    "s4, reached, frontiers = breadth_first_bfs(r4)\n",
    "print(frontier_lengths(frontiers))\n"
   ]
  },
  {
   "cell_type": "code",
   "execution_count": 13,
   "metadata": {},
   "outputs": [
    {
     "name": "stdout",
     "output_type": "stream",
     "text": [
      "[1, 3, 3, 5, 5, 4, 5, 4]\n"
     ]
    }
   ],
   "source": [
    "# Q2 PART 5 ANSWER GOES HERE (search and printing of frontier)\n",
    "s_new, reached, frontiers = breadth_first_bfs(r_new)\n",
    "print(frontier_lengths(frontiers))\n"
   ]
  },
  {
   "cell_type": "markdown",
   "metadata": {},
   "source": [
    "# QUESTION 3 Search (Expected) - 4 points\n",
    "\n",
    "1. Write your own search algorithm called **random_search**. In this search algorithm, the node selected for expansion is selected randomly from the frontier (with uniform probability among the possible nodes). Do not modify *best_first_search* but rather assign random priorities to each node. The random priorities should be between 0.0 and 1.0. HINT: See the imports at the top of this notebook, python has the ability to do this in the *random* package.\n",
    "2. You must use **random.seed(10.0)** to ensure reproducibility.\n",
    "3. Use the new algorithm to run it for the r_new pair (Arad to Bucharest) on the **romania_new** map.\n",
    "4. Run frontier_lengths from above on this output."
   ]
  },
  {
   "cell_type": "code",
   "execution_count": 14,
   "metadata": {},
   "outputs": [],
   "source": [
    "# Q3  Part 1 and 2 ANSWER GOES HERE (random_search)\n",
    "#1. Write your own search algorithm called **random_search**. In this search algorithm, the node selected for expansion is selected randomly from the frontier (with uniform probability among the possible nodes). Do not modify *best_first_search* but rather assign random priorities to each node. The random priorities should be between 0.0 and 1.0. HINT: See the imports at the top of this notebook, python has the ability to do this in the *random* package.\n",
    "#2. You must use **random.seed(10.0)** to ensure reproducibility.\n",
    "\n",
    "def random_search(problem):\n",
    "    random.seed(10.0)\n",
    "    #print(random.uniform(0, 1))\n",
    "    return best_first_search(problem, f=lambda n: random.uniform(0, 1))"
   ]
  },
  {
   "cell_type": "code",
   "execution_count": 15,
   "metadata": {},
   "outputs": [
    {
     "name": "stdout",
     "output_type": "stream",
     "text": [
      "[1, 3, 3, 3, 5, 4]\n"
     ]
    }
   ],
   "source": [
    "# Q3  Part 3 and 4 ANSWER GOES HERE (search and print)\n",
    "#3. Use the new algorithm to run it for the r_new pair (Arad to Bucharest) on the **romania_new** map.\n",
    "#4. Run frontier_lengths from above on this output.\n",
    "r_new = RouteProblem('A', 'B', map=romania_new)\n",
    "s_new, reached, frontiers = random_search(r_new)\n",
    "print(frontier_lengths(frontiers))\n",
    "\n"
   ]
  },
  {
   "cell_type": "markdown",
   "metadata": {},
   "source": [
    "# QUESTION 4 Search (Expected) - 4 points\n",
    "\n",
    "1. Create a new class of search problems called **GridProblemMod** by copying and renaming the **GridProblem** class below appropriately.\n",
    "2. The two modifications that you will need to implement for **GridProblemMod** in this question are to restrict the directions the agent can move to so that no diagonal movement is allowed i.e. only up/right/down/left movement using that order.\n",
    "3. Unlike the original **GridProblem**, in this case, the grid will be finite. Add a parameter to the __init__ method called size that determines the size $N$ of the land grid which is a $N$ by $N$ square.\n",
    "4. The movement should implement wrap-around using modulo arithmetic i.e if the agent in a grid of size $10$ is in square $(0,5)$ and the action $(-1,5)$ is applied, then the agent should move to square $(9,5)$. Another way to think of it is that when the agent reaches the boundary of the land grid they **jump** to the other side. Yet, another way of thinking of this is that the world becomes a torus!\n",
    "\n",
    "*The path shown below demonstrates this wrap-around behaviour.*\n"
   ]
  },
  {
   "cell_type": "code",
   "execution_count": 16,
   "metadata": {},
   "outputs": [],
   "source": [
    "class GridProblem(Problem):\n",
    "    \"\"\"Finding a path on a 2D grid with obstacles. Obstacles are (x, y) cells.\"\"\"\n",
    "\n",
    "    def __init__(self, initial=(15, 30), goal=(130, 30), obstacles=(), **kwds):\n",
    "        Problem.__init__(self, initial=initial, goal=goal, \n",
    "                         obstacles=set(obstacles) - {initial, goal}, **kwds)\n",
    "\n",
    "    directions = [(-1, -1), (0, -1), (1, -1),\n",
    "                  (-1, 0),           (1,  0),\n",
    "                  (-1, +1), (0, +1), (1, +1)]\n",
    "    \n",
    "    def action_cost(self, s, action, s1): return straight_line_distance(s, s1)\n",
    "    \n",
    "    def h(self, node): return straight_line_distance(node.state, self.goal)\n",
    "                  \n",
    "    def result(self, state, action): \n",
    "        \"Both states and actions are represented by (x, y) pairs.\"\n",
    "        return action if action not in self.obstacles else state\n",
    "    \n",
    "    \n",
    "    def actions(self, state):\n",
    "        \"\"\"You can move one cell in any of `directions` to a non-obstacle cell.\"\"\"\n",
    "        x, y = state\n",
    "        return {(x + dx, y + dy) for (dx, dy) in self.directions} - self.obstacles\n",
    "\n",
    "def straight_line_distance(A, B):\n",
    "    \"Straight-line distance between two points.\"\n",
    "    return sum(abs(a - b)**2 for (a, b) in zip(A, B)) ** 0.5\n",
    "\n",
    "def transpose(matrix): return list(zip(*matrix))\n"
   ]
  },
  {
   "cell_type": "code",
   "execution_count": 17,
   "metadata": {},
   "outputs": [
    {
     "name": "stdout",
     "output_type": "stream",
     "text": [
      "[(2, 2), (2, 3), (2, 4), (2, 5), (2, 6), (1, 6), (0, 6), (9, 6), (8, 6), (7, 6)]\n"
     ]
    }
   ],
   "source": [
    "# question 4 ANSWER GOES HERE \n",
    "# add your GridProblemMod class \n",
    "# and then check that the code provided works \n",
    "# and produces the desired output \n",
    "# you can add some check of your own to \n",
    "# see how things work \n",
    "#1. Create a new class of search problems called **GridProblemMod** by copying and renaming the **GridProblem** class below appropriately.\n",
    "#2. The two modifications that you will need to implement for **GridProblemMod** in this question are to restrict the directions the agent can move to so that no diagonal movement is allowed i.e. only up/right/down/left movement using that order.\n",
    "#3. Unlike the original **GridProblem**, in this case, the grid will be finite. Add a parameter to the __init__ method called size that determines the size $N$ of the land grid which is a $N$ by $N$ square.\n",
    "#4. The movement should implement wrap-around using modulo arithmetic i.e if the agent in a grid of size $10$ is in square $(0,5)$ and the action $(-1,5)$ is applied, then the agent should move to square $(9,5)$. Another way to think of it is that when the agent reaches the boundary of the land grid they **jump** to the other side. Yet, another way of thinking of this is that the world becomes a torus!\n",
    "class GridProblemMod(Problem):\n",
    "    \"\"\"Finding a path on a 2D grid with obstacles. Obstacles are (x, y) cells.\"\"\"\n",
    "\n",
    "    def __init__(self, initial=(15, 30), goal=(130, 30), obstacles=(), size=10, **kwds):\n",
    "        self.size = size # Added parameter for the size of the land grid\n",
    "        Problem.__init__(self, initial=initial, goal=goal, \n",
    "                         obstacles=set(obstacles) - {initial, goal}, **kwds)\n",
    "\n",
    "    directions = [(0, -1), (+1, 0),\n",
    "                  (-1, 0), (0, +1)] # Restricting to up, right, down, left\n",
    "    \n",
    "    def action_cost(self, s, action, s1): return straight_line_distance(s, s1)\n",
    "    \n",
    "    def h(self, node): return straight_line_distance(node.state, self.goal)\n",
    "                  \n",
    "    def result(self, state, action): \n",
    "        \"Both states and actions are represented by (x, y) pairs.\"\n",
    "        x, y = action if action not in self.obstacles else state\n",
    "        # Implementing wrap-around using modulo arithmetic\n",
    "        new_x = (x + self.size) % self.size\n",
    "        new_y = (y + self.size) % self.size\n",
    "        return (new_x, new_y)\n",
    "    \n",
    "    def actions(self, state):\n",
    "        \"\"\"You can move one cell in any of `directions` to a non-obstacle cell.\"\"\"\n",
    "        x, y = state\n",
    "        return {(x + dx, y + dy) for (dx, dy) in self.directions} - self.obstacles\n",
    "\n",
    "def straight_line_distance(A, B):\n",
    "    \"Straight-line distance between two points.\"\n",
    "    return sum(abs(a - b)**2 for (a, b) in zip(A, B)) ** 0.5\n",
    "\n",
    "def transpose(matrix): return list(zip(*matrix))\n",
    "\n",
    "g1 = GridProblemMod(initial = (2,2), goal = (7,6), size=10)\n",
    "(bfs_g1, reached, frontiers) = breadth_first_bfs(g1)\n",
    "print(path_states(bfs_g1))\n",
    "# desired answer \n",
    "# [(2, 2), (2, 3), (2, 4), (2, 5), (2, 6), (1, 6), (0, 6), (9, 6), (8, 6), (7, 6)]"
   ]
  },
  {
   "cell_type": "markdown",
   "metadata": {
    "editable": true,
    "slideshow": {
     "slide_type": ""
    },
    "tags": []
   },
   "source": [
    "# QUESTION 5 Search (Expected) - 4 points\n",
    "\n",
    "1. Create a new class of search problems called **LandGridProblem** by copying and renaming the **GridProblemMod** class you completed in the previous question.\n",
    "2. Each location on the LandGrid has an associated number representing the \"cost\" of going through that location. Grass corresponds to 1, hills correspond to 2, and mountains correspond to 3. This is similar to tile-based board games such as Settlers of Catan or computer games such as Civilization.\n",
    "3. You will need to modify the action_cost method to take into account the land cost. So if a path contains two grass squares, three hills, and one mountain the total path cost will be $2 * 1 + 3 * 2 + 1 * 3 = 10$.\n",
    "4. Add a **Manhattan distance** heuristic to your implementation. The **Manhattan distance** between two points $(x_1, y_1)$ and $(x_2, y_2)$ is defined as $|x_2 - x_1| + |y_2 - y_1|$. The choice of heuristic should be specified by an argument to the LandGridProblem, how this is done can be seen in the init function provided below. See tests below where we use A* and greedy to trigger use of the heuristics!\n",
    "\n",
    "For example: \n",
    "```\n",
    "d4_h1 = LandgridProblem(initial = (2,2), goal=(7,6), land_grid = land_grid4, heuristic='straight')\n",
    "d4_h2 = LandgridProblem(initial = (2,2), goal=(7,6), land_grid = land_grid4, heuristic='manhattan')\n",
    "```\n",
    "\n",
    "Some code for creating, printing, and plotting land grids is provided below. \n",
    "\n",
    "**IMPORTANT:**\n",
    "Here is the __init__ function you will need to use. \n",
    "\n",
    "```\n",
    "def __init__(self, initial=(2, 2), goal=(4, 4), land_grid=[],heuristic=\"straight\",**kwds):\n",
    "        size = len(land_grid)\n",
    "        self.size = size \n",
    "        self.heuristic = heuristic \n",
    "        Problem.__init__(self, initial=initial, goal=goal, land_grid = land_grid, size = size, heuristic=heuristic, **kwds)\n",
    "```"
   ]
  },
  {
   "cell_type": "code",
   "execution_count": 18,
   "metadata": {
    "editable": true,
    "slideshow": {
     "slide_type": ""
    },
    "tags": []
   },
   "outputs": [
    {
     "name": "stdout",
     "output_type": "stream",
     "text": [
      "[[3, 2, 3, 1, 3, 3, 1, 2, 1, 2], [2, 3, 1, 1, 2, 1, 3, 1, 1, 1], [1, 3, 3, 2, 3, 2, 3, 1, 2, 1], [1, 3, 3, 2, 2, 3, 1, 3, 2, 3], [3, 1, 3, 2, 2, 1, 2, 2, 2, 3], [1, 1, 1, 3, 2, 1, 1, 2, 3, 3], [2, 1, 3, 3, 1, 2, 3, 2, 3, 2], [3, 2, 3, 2, 1, 1, 3, 1, 2, 2], [2, 2, 2, 3, 2, 3, 3, 1, 3, 1], [1, 3, 2, 2, 3, 1, 1, 2, 2, 2]]\n"
     ]
    }
   ],
   "source": [
    "land_grid1 = [[1,1,2,3,3],[1,2,1,3,1],[1,1,3,1,1],[2,2,2,3,3],[3,1,1,1,1]]\n",
    "land_grid2 = [[1,1,1,1,1],[1,1,1,1,1],[1,1,1,1,1],[1,1,1,1,1],[1,1,1,1,1]]\n",
    "\n",
    "def create_uniform_land_grid(n): \n",
    "    column = [1] * n\n",
    "    grid = [column] * n \n",
    "    return grid \n",
    "\n",
    "def create_random_land_grid(n): \n",
    "    matrix = [] \n",
    "    random.seed(30)\n",
    "    for i in range(0,n): \n",
    "        row = [] \n",
    "        for i in range(0,n): \n",
    "            row.append(random.randint(1, 3))\n",
    "        matrix.append(row)\n",
    "    return matrix \n",
    "    \n",
    "land_grid3 = create_uniform_land_grid(10) \n",
    "land_grid4 = create_random_land_grid(10)\n",
    "\n",
    "print(land_grid4)"
   ]
  },
  {
   "cell_type": "code",
   "execution_count": 45,
   "metadata": {
    "editable": true,
    "slideshow": {
     "slide_type": ""
    },
    "tags": []
   },
   "outputs": [],
   "source": [
    "# 1. Create a new class of search problems called **LandGridProblem** by copying and renaming the **GridProblemMod** class you completed in the previous question.\n",
    "# 2. Each location on the LandGrid has an associated number representing the \"cost\" of going through that location. Grass corresponds to 1, hills correspond to 2, and mountains correspond to 3. This is similar to tile-based board games such as Settlers of Catan or computer games such as Civilization.\n",
    "# 3. You will need to modify the action_cost method to take into account the land cost. So if a path contains two grass squares, three hills, and one mountain the total path cost will be $2 * 1 + 3 * 2 + 1 * 3 = 10$.\n",
    "# 4. Add a **Manhattan distance** heuristic to your implementation. The **Manhattan distance** between two points $(x_1, y_1)$ and $(x_2, y_2)$ is defined as $|x_2 - x_1| + |y_2 - y_1|$. The choice of heuristic should be specified by an argument to the LandGridProblem, how this is done can be seen in the init function provided below. See tests below where we use A* and greedy to trigger use of the heuristics!\n",
    "\n",
    "# For example: \n",
    "# ```\n",
    "# d4_h1 = LandgridProblem(initial = (2,2), goal=(7,6), land_grid = land_grid4, heuristic='straight')\n",
    "# d4_h2 = LandgridProblem(initial = (2,2), goal=(7,6), land_grid = land_grid4, heuristic='manhattan')\n",
    "# ```\n",
    "\n",
    "# QUESTION 5 ANSWER GOES HERE \n",
    "class LandgridProblem(Problem):\n",
    "\n",
    "    def __init__(self, initial=(2, 2), goal=(4, 4), land_grid=[],heuristic=\"straight\",**kwds):\n",
    "        size = len(land_grid)\n",
    "        self.size = size \n",
    "        self.heuristic = heuristic \n",
    "        Problem.__init__(self, initial=initial, goal=goal, land_grid = land_grid, size = size, heuristic=heuristic, **kwds)\n",
    "\n",
    "    directions = [(0, -1), (+1, 0),\n",
    "                  (-1, 0), (0, +1)] # Restricting to up, right, down, left\n",
    "    \n",
    "    #You will need to modify the action_cost method to take into account the land cost. So if a path contains two grass squares, three hills, and one mountain the total path cost will be $2 * 1 + 3 * 2 + 1 * 3 = 10$.\n",
    "    def action_cost(self, s, action, s1):\n",
    "        return self.land_grid[s1[0]][s1[1]]\n",
    "    \n",
    "    def h(self, node): \n",
    "        if self.heuristic == \"straight\": \n",
    "            return straight_line_distance(node.state, self.goal)\n",
    "        elif self.heuristic == \"manhattan\": \n",
    "            return manhattan_distance(node.state, self.goal)\n",
    "        else: \n",
    "            return 0\n",
    "                  \n",
    "    def result(self, state, action): \n",
    "        \"Both states and actions are represented by (x, y) pairs.\"\n",
    "        x, y = action \n",
    "        # Implementing wrap-around using modulo arithmetic\n",
    "        new_x = (x + self.size) % self.size\n",
    "        new_y = (y + self.size) % self.size\n",
    "        return (new_x, new_y)\n",
    "    \n",
    "    def actions(self, state):\n",
    "        \"\"\"You can move one cell in any of `directions` to a non-obstacle cell. (not checking obstacles)\"\"\"\n",
    "        x, y = state\n",
    "        return {(x + dx, y + dy) for (dx, dy) in self.directions} \n",
    "\n",
    "def straight_line_distance(A, B):\n",
    "    \"Straight-line distance between two points.\"\n",
    "    return sum(abs(a - b)**2 for (a, b) in zip(A, B)) ** 0.5\n",
    "\n",
    "def manhattan_distance(A, B):\n",
    "    \"Manhattan distance between two points.\"\n",
    "    return sum(abs(a - b) for (a, b) in zip(A, B))\n",
    "\n",
    "def transpose(matrix): return list(zip(*matrix))"
   ]
  },
  {
   "cell_type": "code",
   "execution_count": 46,
   "metadata": {},
   "outputs": [],
   "source": [
    "def plot_grid_problem(grid, solution, reached=(), title='Search', show=True):\n",
    "    \"Use matplotlib to plot the grid, obstacles, solution, and reached.\"\n",
    "    grass_points = [] \n",
    "    hill_points = [] \n",
    "    mountain_points = [] \n",
    "    for i in range(0,grid.size): \n",
    "        for j in range(0,grid.size): \n",
    "            if (grid.land_grid[i][j] == 1): \n",
    "                grass_points.append((i,j))\n",
    "            elif (grid.land_grid[i][j] == 2): \n",
    "                hill_points.append((i,j))\n",
    "            elif (grid.land_grid[i][j] == 3): \n",
    "                mountain_points.append((i,j))\n",
    "    \n",
    "    nlocations =  grid.size\n",
    "    plt.figure(figsize=(5, 5))\n",
    "    plt.axis('on'); \n",
    "    plt.xlim((-0.5,nlocations-0.5))\n",
    "    plt.ylim((-0.5,nlocations-0.5))\n",
    "    if (grass_points):\n",
    "        plt.scatter(*transpose(grass_points), (250 / nlocations) **2, marker='s', c='green')\n",
    "    if (hill_points): \n",
    "        plt.scatter(*transpose(hill_points), (250 / nlocations) **2, marker='s', c='yellow')\n",
    "    if (mountain_points): \n",
    "        plt.scatter(*transpose(mountain_points), (250 / nlocations) **2, marker='s', c='black')\n",
    "    plt.scatter(*transpose(reached), (50/nlocations)**2, marker='o', c='blue')\n",
    "    plt.scatter(*transpose(path_states(solution)), (100 / nlocations) **2,marker='s', c='red')\n",
    "    plt.scatter(*transpose([grid.initial]), (50/nlocations)**2, marker='D', c='white')\n",
    "    plt.scatter(*transpose([grid.goal]), (125/nlocations)**2, marker='*', c='white')\n",
    "    if show: plt.show()\n",
    "    print('{} {} search: {:.1f} path cost, {:,d} states reached'\n",
    "          .format(' ' * 10, title, solution.path_cost, len(reached)))"
   ]
  },
  {
   "cell_type": "code",
   "execution_count": 50,
   "metadata": {
    "editable": true,
    "slideshow": {
     "slide_type": ""
    },
    "tags": []
   },
   "outputs": [
    {
     "data": {
      "image/png": "[encoded data removed]",
      "text/plain": [
       "<Figure size 500x500 with 1 Axes>"
      ]
     },
     "metadata": {},
     "output_type": "display_data"
    },
    {
     "name": "stdout",
     "output_type": "stream",
     "text": [
      "           D1 BFS search: 6.0 path cost, 25 states reached\n"
     ]
    },
    {
     "data": {
      "image/png": "[encoded data removed]",
      "text/plain": [
       "<Figure size 500x500 with 1 Axes>"
      ]
     },
     "metadata": {},
     "output_type": "display_data"
    },
    {
     "name": "stdout",
     "output_type": "stream",
     "text": [
      "           D1 Uniform search: 6.0 path cost, 25 states reached\n"
     ]
    },
    {
     "data": {
      "image/png": "[encoded data removed]",
      "text/plain": [
       "<Figure size 500x500 with 1 Axes>"
      ]
     },
     "metadata": {},
     "output_type": "display_data"
    },
    {
     "name": "stdout",
     "output_type": "stream",
     "text": [
      "           D1 A* search search: 5.0 path cost, 19 states reached\n"
     ]
    },
    {
     "data": {
      "image/png": "[encoded data removed]",
      "text/plain": [
       "<Figure size 500x500 with 1 Axes>"
      ]
     },
     "metadata": {},
     "output_type": "display_data"
    },
    {
     "name": "stdout",
     "output_type": "stream",
     "text": [
      "           D4 BFS search: 21.0 path cost, 100 states reached\n"
     ]
    },
    {
     "data": {
      "image/png": "[encoded data removed]",
      "text/plain": [
       "<Figure size 500x500 with 1 Axes>"
      ]
     },
     "metadata": {},
     "output_type": "display_data"
    },
    {
     "name": "stdout",
     "output_type": "stream",
     "text": [
      "           D4 UCF search: 15.0 path cost, 100 states reached\n"
     ]
    },
    {
     "data": {
      "image/png": "[encoded data removed]",
      "text/plain": [
       "<Figure size 500x500 with 1 Axes>"
      ]
     },
     "metadata": {},
     "output_type": "display_data"
    },
    {
     "name": "stdout",
     "output_type": "stream",
     "text": [
      "           D4 A* search: 15.0 path cost, 91 states reached\n"
     ]
    },
    {
     "data": {
      "image/png": "[encoded data removed]",
      "text/plain": [
       "<Figure size 500x500 with 1 Axes>"
      ]
     },
     "metadata": {},
     "output_type": "display_data"
    },
    {
     "name": "stdout",
     "output_type": "stream",
     "text": [
      "           D4 Greedy search: 21.0 path cost, 24 states reached\n"
     ]
    },
    {
     "data": {
      "image/png": "[encoded data removed]",
      "text/plain": [
       "<Figure size 500x500 with 1 Axes>"
      ]
     },
     "metadata": {},
     "output_type": "display_data"
    },
    {
     "name": "stdout",
     "output_type": "stream",
     "text": [
      "           D4 A* Straight search: 15.0 path cost, 91 states reached\n"
     ]
    },
    {
     "data": {
      "image/png": "[encoded data removed]",
      "text/plain": [
       "<Figure size 500x500 with 1 Axes>"
      ]
     },
     "metadata": {},
     "output_type": "display_data"
    },
    {
     "name": "stdout",
     "output_type": "stream",
     "text": [
      "           D4 A* Manhattan search: 15.0 path cost, 79 states reached\n"
     ]
    }
   ],
   "source": [
    "# This code will not work until you have implemented appropriately the LandGridProblem class \n",
    "# These tests must pass!\n",
    "\n",
    "d1 = LandgridProblem(initial = (2,2), land_grid = land_grid1)\n",
    "(bfs_d1, reached, frontiers) = breadth_first_bfs(d1)\n",
    "plot_grid_problem(d1, bfs_d1, reached, title='D1 BFS', show=True)\n",
    "(ucs_d1, reached, frontiers) = uniform_cost_search(d1) \n",
    "plot_grid_problem(d1, bfs_d1, reached, title='D1 Uniform', show=True)\n",
    "(ass_d1, reached, frontiers) = astar_search(d1)\n",
    "plot_grid_problem(d1, ass_d1, reached, title='D1 A* search', show=True)\n",
    "\n",
    "\n",
    "d4 = LandgridProblem(initial = (2,2), goal=(7,6), land_grid = land_grid4)\n",
    "(bfs_d4, reached, frontiers) = breadth_first_bfs(d4)\n",
    "plot_grid_problem(d4, bfs_d4, reached, title='D4 BFS', show=True)\n",
    "(ucs_d4, reached, frontiers) = uniform_cost_search(d4)\n",
    "plot_grid_problem(d4, ucs_d4, reached, title='D4 UCF', show=True)\n",
    "(ass_d4, reached, frontiers) = astar_search(d4)\n",
    "plot_grid_problem(d4, ass_d4, reached, title='D4 A*', show=True)\n",
    "(grs_d4, reached, frontiers) = greedy_bfs(d4)\n",
    "plot_grid_problem(d4, grs_d4, reached, title='D4 Greedy', show=True)\n",
    "\n",
    "\n",
    "d4_h1 = LandgridProblem(initial = (2,2), goal=(7,6), land_grid = land_grid4, heuristic='straight')\n",
    "(bfs_d4_h1, reached, frontiers) = astar_search(d4_h1)\n",
    "plot_grid_problem(d4_h1, bfs_d4_h1, reached, title='D4 A* Straight', show=True)\n",
    "\n",
    "d4_h2 = LandgridProblem(initial = (2,2), goal=(7,6), land_grid = land_grid4, heuristic='manhattan')\n",
    "(bfs_d4_h2, reached, frontiers) = astar_search(d4_h2)\n",
    "plot_grid_problem(d4_h2, bfs_d4_h2, reached, title='D4 A* Manhattan', show=True)"
   ]
  },
  {
   "cell_type": "markdown",
   "metadata": {},
   "source": [
    "# QUESTION 6 CSP (Expected) - 4 points\n",
    "\n",
    "Let's look at a simple basic implementation of recursive backtracking search for solving CSP problems. "
   ]
  },
  {
   "cell_type": "code",
   "execution_count": null,
   "metadata": {},
   "outputs": [],
   "source": [
    "def isComplete(assignment):\n",
    "    return None not in (assignment.values())\n",
    "\n",
    "def select_unassigned_variable(variables, assignment):\n",
    "    for var in variables:\n",
    "        if assignment[var] is None:\n",
    "            return var\n",
    "\n",
    "def is_consistent(assignment, constraints):\n",
    "    for constraint_violated in constraints:\n",
    "        if constraint_violated(assignment):\n",
    "          return False\n",
    "    return True\n",
    "\n",
    "def init_assignment(csp):\n",
    "    assignment = {}\n",
    "    for var in csp[\"VARIABLES\"]:\n",
    "        assignment[var] = None\n",
    "    return assignment\n",
    "\n",
    "def add_constraint(csp, constraint): \n",
    "    csp['CONSTRAINTS'].append(constraint)\n",
    "    \n",
    "def recursive_backtracking(assignment, csp):\n",
    "    if isComplete(assignment):\n",
    "        return assignment\n",
    "    var = select_unassigned_variable(csp[\"VARIABLES\"], assignment)\n",
    "    for value in csp[\"DOMAINS\"]:\n",
    "        assignment[var] = value\n",
    "        if is_consistent(assignment, csp[\"CONSTRAINTS\"]):\n",
    "            result = recursive_backtracking(assignment, csp)\n",
    "            if result != \"FAILURE\":\n",
    "                return result\n",
    "        assignment[var] = None\n",
    "    return \"FAILURE\"\n",
    "\n",
    "\n",
    "def binary_constraint(var_pair, violations):\n",
    "    (v1,v2) = var_pair\n",
    "    return lambda asmt: (asmt[v1], asmt[v2]) in violations\n"
   ]
  },
  {
   "cell_type": "markdown",
   "metadata": {},
   "source": [
    "We can use this implementation to solve the Australia map colouring problem. Before working on this question make sure you understand how the code works. \n",
    "\n",
    "1. Add a unary constraint function. Similarly to binary constraint, it should return a function that takes as input an assignment and returns true if the assignment violates the constraint.\n",
    "2. Show how this new unary constraint can be used to enforce that WA is blue\n",
    "3. Now in addition to (2), use this new unary constraint to enforce that T is blue in the resulting solution.\n",
    "4. Now in addition to (3), use this new unary constraint to enforce that NT is also blue in the resulting solution. See below for expected output."
   ]
  },
  {
   "cell_type": "code",
   "execution_count": null,
   "metadata": {},
   "outputs": [
    {
     "ename": "NameError",
     "evalue": "name 'add_constraint' is not defined",
     "output_type": "error",
     "traceback": [
      "\u001b[1;31m---------------------------------------------------------------------------\u001b[0m",
      "\u001b[1;31mNameError\u001b[0m                                 Traceback (most recent call last)",
      "Cell \u001b[1;32mIn[3], line 12\u001b[0m\n\u001b[0;32m      5\u001b[0m violations \u001b[38;5;241m=\u001b[39m {(\u001b[38;5;124m'\u001b[39m\u001b[38;5;124mred\u001b[39m\u001b[38;5;124m'\u001b[39m,\u001b[38;5;124m'\u001b[39m\u001b[38;5;124mred\u001b[39m\u001b[38;5;124m'\u001b[39m), (\u001b[38;5;124m'\u001b[39m\u001b[38;5;124mgreen\u001b[39m\u001b[38;5;124m'\u001b[39m,\u001b[38;5;124m'\u001b[39m\u001b[38;5;124mgreen\u001b[39m\u001b[38;5;124m'\u001b[39m), (\u001b[38;5;124m'\u001b[39m\u001b[38;5;124mblue\u001b[39m\u001b[38;5;124m'\u001b[39m,\u001b[38;5;124m'\u001b[39m\u001b[38;5;124mblue\u001b[39m\u001b[38;5;124m'\u001b[39m)}\n\u001b[0;32m      7\u001b[0m \u001b[38;5;28;01mfor\u001b[39;00m (v1,v2) \u001b[38;5;129;01min\u001b[39;00m [(\u001b[38;5;124m'\u001b[39m\u001b[38;5;124mWA\u001b[39m\u001b[38;5;124m'\u001b[39m, \u001b[38;5;124m'\u001b[39m\u001b[38;5;124mNT\u001b[39m\u001b[38;5;124m'\u001b[39m), (\u001b[38;5;124m'\u001b[39m\u001b[38;5;124mWA\u001b[39m\u001b[38;5;124m'\u001b[39m, \u001b[38;5;124m'\u001b[39m\u001b[38;5;124mSA\u001b[39m\u001b[38;5;124m'\u001b[39m), \n\u001b[0;32m      8\u001b[0m                 (\u001b[38;5;124m'\u001b[39m\u001b[38;5;124mNT\u001b[39m\u001b[38;5;124m'\u001b[39m, \u001b[38;5;124m'\u001b[39m\u001b[38;5;124mSA\u001b[39m\u001b[38;5;124m'\u001b[39m), (\u001b[38;5;124m'\u001b[39m\u001b[38;5;124mNT\u001b[39m\u001b[38;5;124m'\u001b[39m, \u001b[38;5;124m'\u001b[39m\u001b[38;5;124mQ\u001b[39m\u001b[38;5;124m'\u001b[39m), \n\u001b[0;32m      9\u001b[0m                 (\u001b[38;5;124m'\u001b[39m\u001b[38;5;124mSA\u001b[39m\u001b[38;5;124m'\u001b[39m, \u001b[38;5;124m'\u001b[39m\u001b[38;5;124mQ\u001b[39m\u001b[38;5;124m'\u001b[39m), (\u001b[38;5;124m'\u001b[39m\u001b[38;5;124mSA\u001b[39m\u001b[38;5;124m'\u001b[39m, \u001b[38;5;124m'\u001b[39m\u001b[38;5;124mNSW\u001b[39m\u001b[38;5;124m'\u001b[39m), \n\u001b[0;32m     10\u001b[0m                 (\u001b[38;5;124m'\u001b[39m\u001b[38;5;124mSA\u001b[39m\u001b[38;5;124m'\u001b[39m, \u001b[38;5;124m'\u001b[39m\u001b[38;5;124mV\u001b[39m\u001b[38;5;124m'\u001b[39m),(\u001b[38;5;124m'\u001b[39m\u001b[38;5;124mQ\u001b[39m\u001b[38;5;124m'\u001b[39m, \u001b[38;5;124m'\u001b[39m\u001b[38;5;124mNSW\u001b[39m\u001b[38;5;124m'\u001b[39m), \n\u001b[0;32m     11\u001b[0m                 (\u001b[38;5;124m'\u001b[39m\u001b[38;5;124mV\u001b[39m\u001b[38;5;124m'\u001b[39m, \u001b[38;5;124m'\u001b[39m\u001b[38;5;124mT\u001b[39m\u001b[38;5;124m'\u001b[39m)]: \n\u001b[1;32m---> 12\u001b[0m     \u001b[43madd_constraint\u001b[49m(csp1, binary_constraint((v1,v2), violations))\n",
      "\u001b[1;31mNameError\u001b[0m: name 'add_constraint' is not defined"
     ]
    }
   ],
   "source": [
    "csp1 = {\"VARIABLES\": [\"WA\", \"NT\", \"Q\", \"NSW\", \"V\", \"SA\", \"T\"],\n",
    "        \"DOMAINS\": [\"red\", \"green\", \"blue\"],\n",
    "        \"CONSTRAINTS\": []}\n",
    "\n",
    "violations = {('red','red'), ('green','green'), ('blue','blue')}\n",
    "\n",
    "for (v1,v2) in [('WA', 'NT'), ('WA', 'SA'), \n",
    "                ('NT', 'SA'), ('NT', 'Q'), \n",
    "                ('SA', 'Q'), ('SA', 'NSW'), \n",
    "                ('SA', 'V'),('Q', 'NSW'), \n",
    "                ('V', 'T')]: \n",
    "    add_constraint(csp1, binary_constraint((v1,v2), violations))\n"
   ]
  },
  {
   "cell_type": "code",
   "execution_count": null,
   "metadata": {},
   "outputs": [],
   "source": [
    "# Q6 ANSWER GOES HERE\n",
    "\n",
    "# HINTS:\n",
    "# 0) define a unary constraint, see binary constrain above\n",
    "# Repeat\n",
    "# 1) add constraint to CSP\n",
    "# 2) recursive backtracking on an initial assignment\n",
    "# 3) print\n",
    "\n",
    "\n",
    "\n",
    "# Expected output\n",
    "# NOTE here the solution should have WA as blue\n",
    "# Result {'WA': 'blue', 'NT': 'red', 'Q': 'blue', 'NSW': 'red', 'V': 'red', 'SA': 'green', 'T': 'green'}\n",
    "# NOTE here the solution should have WA as blue and T as blue\n",
    "# Result {'WA': 'blue', 'NT': 'red', 'Q': 'blue', 'NSW': 'red', 'V': 'red', 'SA': 'green', 'T': 'blue'}\n",
    "# NOTE this is impossible, so failure!\n",
    "# Result FAILURE"
   ]
  },
  {
   "cell_type": "markdown",
   "metadata": {},
   "source": [
    "# QUESTION 7 CSP (Advanced) - 5 points\n",
    "\n",
    "Type inference is used in programming languages to \n",
    "infer the type of variables without explicitly stating it. \n",
    "Some examples: \n",
    "* x = 1  (we can infer x is an integer because 1 is an integer) \n",
    "* y = 1.0 (we can infer y is a float because 1.0 is a float) \n",
    "* z = x + y (we can infer z is a float because adding a float \n",
    "and an integer results in a float)\n",
    "\n",
    "Constraint satisfaction problem solvers can be used to perform \n",
    "type inference. The variables of the programming languages become the variables of the CSP problem, and the domain of each variable is the types it can have. Constraints are created from the expressions analyzed in order to enforce that the assignment of variables to types is correct. Let's consider a simple example: \n",
    "\n",
    "* int I \n",
    "* float F \n",
    "* X = I \n",
    "* Y = X + F \n",
    "* Z = X + Y\n",
    "* W = X + I \n",
    "\n",
    "We assume that when two variables are connected using assignment then they are the same type. So X is an integer because I has been declared an integer. The type of the result of adding two integers is an integer, the result of adding two floats is a float but the result of adding an integer and a float has type float. So we know that X is an integer and we add F which is a float therefore Y is a float and similarly Z is also a float.  W is an integer because X and I are integers. \n",
    "\n",
    "Notice that we did not declare the types of X, Y, and Z but were able to infer them using the semantics of the equality sign and addition. \n",
    "\n",
    "1. Your task for this question is to express this code as a CSP problem and solve it.\n",
    "2. The result of the CSP will be the inferred types.\n",
    "3. Each variable (I,F,X,Y,Z,W) will take values from the domain (int, float).\n",
    "4. Unary constraints can be used for the type declaration and a binary constraint can be used for the assignment expression.\n",
    "5. You will need to introduce a ternary_constraint method to express the sum expressions. "
   ]
  },
  {
   "cell_type": "code",
   "execution_count": null,
   "metadata": {
    "editable": true,
    "slideshow": {
     "slide_type": ""
    },
    "tags": []
   },
   "outputs": [],
   "source": [
    "# Q7 ANSWER GOES HERE (modifications to CSP code and definition)\n",
    "\n",
    "\n",
    "\n",
    "# result = recursive_backtracking(init_assignment(csp1), csp1)\n",
    "# print('Result', result)\n",
    "# Result {'I': 'int', 'F': 'float', 'X': 'int', 'Y': 'float', 'Z': 'float', 'W': 'int'}\n",
    "\n"
   ]
  }
 ],
 "metadata": {
  "kernelspec": {
   "display_name": "Python 3 (ipykernel)",
   "language": "python",
   "name": "python3"
  },
  "language_info": {
   "codemirror_mode": {
    "name": "ipython",
    "version": 3
   },
   "file_extension": ".py",
   "mimetype": "text/x-python",
   "name": "python",
   "nbconvert_exporter": "python",
   "pygments_lexer": "ipython3",
   "version": "3.12.1"
  }
 },
 "nbformat": 4,
 "nbformat_minor": 4
}
